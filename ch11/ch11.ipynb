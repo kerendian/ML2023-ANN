{
  "cells": [
    {
      "cell_type": "markdown",
      "metadata": {
        "tags": [],
        "id": "S7SXtri_1vik"
      },
      "source": [
        "# Machine Learning with PyTorch and Scikit-Learn\n"
      ]
    },
    {
      "cell_type": "code",
      "execution_count": 1,
      "metadata": {
        "id": "KMw22g_u1viq"
      },
      "outputs": [],
      "source": [
        "import sys\n",
        "sys.path.insert(0, '..')"
      ]
    },
    {
      "cell_type": "code",
      "execution_count": 41,
      "metadata": {
        "colab": {
          "base_uri": "https://localhost:8080/"
        },
        "id": "nAaACgob1viz",
        "outputId": "190f33d6-fde2-47ca-c1ab-1551f210c048"
      },
      "outputs": [
        {
          "output_type": "stream",
          "name": "stderr",
          "text": [
            "/usr/local/lib/python3.10/dist-packages/sklearn/datasets/_openml.py:968: FutureWarning: The default value of `parser` will change from `'liac-arff'` to `'auto'` in 1.4. You can set `parser='auto'` to silence this warning. Therefore, an `ImportError` will be raised from 1.4 if the dataset is dense and pandas is not installed. Note that the pandas parser may return different data types. See the Notes Section in fetch_openml's API doc for details.\n",
            "  warn(\n"
          ]
        },
        {
          "output_type": "stream",
          "name": "stdout",
          "text": [
            "(70000, 784)\n",
            "(70000,)\n"
          ]
        }
      ],
      "source": [
        "from sklearn.datasets import fetch_openml\n",
        "\n",
        "\n",
        "X, y = fetch_openml('mnist_784', version=1, return_X_y=True)\n",
        "X = X.values\n",
        "y = y.astype(int).values\n",
        "\n",
        "print(X.shape)\n",
        "print(y.shape)"
      ]
    },
    {
      "cell_type": "markdown",
      "metadata": {
        "id": "nbRgoDAl1viz"
      },
      "source": [
        "Normalize to [-1, 1] range:"
      ]
    },
    {
      "cell_type": "code",
      "execution_count": 42,
      "metadata": {
        "id": "MFeet6vY1vi0"
      },
      "outputs": [],
      "source": [
        "X = ((X / 255.) - .5) * 2"
      ]
    },
    {
      "cell_type": "code",
      "execution_count": 45,
      "metadata": {
        "id": "_0aBrgf01vi1"
      },
      "outputs": [],
      "source": [
        "from sklearn.model_selection import train_test_split\n",
        "\n",
        "\n",
        "X_temp, X_test, y_temp, y_test = train_test_split(\n",
        "    X, y, test_size=0.3, random_state=123, stratify=y)\n",
        "\n",
        "X_train, X_valid, y_train, y_valid = train_test_split(\n",
        "    X_temp, y_temp, test_size=0.3, random_state=123, stratify=y_temp)\n",
        "\n",
        "# X_train, X_test, y_train, y_test = train_test_split(X, y, test_size=0.3, random_state=42)\n",
        "\n",
        "# optional to free up some memory by deleting non-used arrays:\n",
        "# del X_temp, y_temp, X, y"
      ]
    },
    {
      "cell_type": "markdown",
      "source": [
        "# **Implementing a multi-layer perceptron**\n",
        "\n",
        "\n",
        "\n",
        "---\n",
        "\n",
        "\n"
      ],
      "metadata": {
        "id": "As0b-QKf2AVL"
      }
    },
    {
      "cell_type": "code",
      "source": [
        "import numpy as np\n",
        "\n",
        "class NeuralNetMLPSingle:\n",
        "    def __init__(self, n_hidden, l2, epochs, eta):\n",
        "        self.n_hidden = n_hidden\n",
        "        self.l2 = l2\n",
        "        self.epochs = epochs\n",
        "        self.eta = eta\n",
        "\n",
        "    def forward(self, X):\n",
        "        # Compute activations of hidden layer\n",
        "        z_h = np.dot(X, self.weight_h) + self.bias_h\n",
        "        a_h = self._sigmoid(z_h)\n",
        "\n",
        "        # Compute activations of output layer\n",
        "        z_out = np.dot(a_h, self.weight_out) + self.bias_out\n",
        "        a_out = self._softmax(z_out)\n",
        "\n",
        "        return a_h, a_out\n",
        "\n",
        "    def backward(self, X, a_h, a_out, y):\n",
        "        # Output layer gradients\n",
        "        grad_out = a_out - self._onehot_encoding(y)\n",
        "\n",
        "        # Hidden layer gradients\n",
        "        grad_h = np.dot(grad_out, self.weight_out.T) * self._sigmoid_derivative(a_h)\n",
        "\n",
        "        # Weight gradients\n",
        "        d_loss__d_w_out = np.dot(a_h.T, grad_out)\n",
        "        d_loss__d_b_out = np.sum(grad_out, axis=0)\n",
        "        d_loss__d_w_h = np.dot(X.T, grad_h)\n",
        "        d_loss__d_b_h = np.sum(grad_h, axis=0)\n",
        "\n",
        "        # Add L2 regularization to weight gradients\n",
        "        d_loss__d_w_out += self.l2 * self.weight_out\n",
        "        d_loss__d_w_h += self.l2 * self.weight_h\n",
        "\n",
        "        return d_loss__d_w_out, d_loss__d_b_out, d_loss__d_w_h, d_loss__d_b_h\n",
        "\n",
        "    def fit(self, X, y):\n",
        "        # Initialize weights and biases\n",
        "        self.weight_h = np.random.uniform(-1, 1, size=(X.shape[1], self.n_hidden))\n",
        "        self.bias_h = np.zeros(self.n_hidden)\n",
        "        self.weight_out = np.random.uniform(-1, 1, size=(self.n_hidden, np.unique(y).shape[0]))\n",
        "        self.bias_out = np.zeros(np.unique(y).shape[0])\n",
        "\n",
        "        # Convert class labels to integers if necessary\n",
        "        if y.dtype == object:\n",
        "            y = self._label_encoder(y)\n",
        "\n",
        "        # One-hot encode the target variable\n",
        "        y_enc = self._onehot_encoding(y)\n",
        "\n",
        "        # Iterate over epochs\n",
        "        for _ in range(self.epochs):\n",
        "            a_h, a_out = self.forward(X)\n",
        "            d_loss__d_w_out, d_loss__d_b_out, d_loss__d_w_h, d_loss__d_b_h = self.backward(X, a_h, a_out, y)\n",
        "\n",
        "            # Update weights and biases\n",
        "            self.weight_h -= self.eta * d_loss__d_w_h\n",
        "            self.bias_h -= self.eta * d_loss__d_b_h\n",
        "            self.weight_out -= self.eta * d_loss__d_w_out\n",
        "            self.bias_out -= self.eta * d_loss__d_b_out\n",
        "\n",
        "    def predict(self, X):\n",
        "        a_h, a_out = self.forward(X)\n",
        "        return np.argmax(a_out, axis=1)\n",
        "\n",
        "    def _sigmoid(self, z):\n",
        "        return 1.0 / (1.0 + np.exp(-np.clip(z, -250, 250)))\n",
        "\n",
        "    def _softmax(self, z):\n",
        "        exp_z = np.exp(z - np.max(z, axis=1, keepdims=True))\n",
        "        return exp_z / np.sum(exp_z, axis=1, keepdims=True)\n",
        "\n",
        "    def _sigmoid_derivative(self, a):\n",
        "        return a * (1 - a)\n",
        "\n",
        "    def _onehot_encoding(self, y):\n",
        "        return np.eye(np.unique(y).shape[0])[y]\n",
        "\n",
        "    def _label_encoder(self, y):\n",
        "        classes = np.unique(y)\n",
        "        mapping = {label: idx for idx, label in enumerate(classes)}\n",
        "        return np.array([mapping[label] for label in y])\n",
        "\n",
        "\n",
        "def train(model, X_train, y_train, X_valid, y_valid, num_epochs, learning_rate=0.1):\n",
        "    epoch_losses = []\n",
        "    epoch_train_acc = []\n",
        "    epoch_valid_acc = []\n",
        "\n",
        "    for epoch in range(num_epochs):\n",
        "        model.fit(X_train, y_train)\n",
        "\n",
        "        # Compute training loss and accuracy\n",
        "        train_loss, train_acc = compute_mse_and_acc(model, X_train, y_train)\n",
        "        epoch_losses.append(train_loss)\n",
        "        epoch_train_acc.append(train_acc)\n",
        "\n",
        "        # Compute validation accuracy\n",
        "        _, valid_acc = compute_mse_and_acc(model, X_valid, y_valid)\n",
        "        epoch_valid_acc.append(valid_acc)\n",
        "\n",
        "        print(f\"Epoch {epoch+1}/{num_epochs} | Train Loss: {train_loss:.2f} | Train Acc: {train_acc:.2f} | Valid Acc: {valid_acc:.2f}\")\n",
        "\n",
        "    return epoch_losses, epoch_train_acc, epoch_valid_acc\n",
        "\n",
        "\n",
        "def compute_mse_and_acc(model, X, y):\n",
        "    y_pred = model.predict(X)\n",
        "    mse = mse_loss(y, y_pred)\n",
        "    acc = accuracy(y, y_pred)\n",
        "    return mse, acc\n",
        "\n",
        "\n",
        "def mse_loss(targets, predicted_labels):\n",
        "    return np.mean((targets - predicted_labels) ** 2)\n",
        "\n",
        "\n",
        "def accuracy(targets, predicted_labels):\n",
        "    return np.mean(predicted_labels == targets)\n"
      ],
      "metadata": {
        "id": "Bq0Blhkz2Efk"
      },
      "execution_count": 47,
      "outputs": []
    },
    {
      "cell_type": "code",
      "source": [
        "# Train the model with single hidden layer\n",
        "num_epochs = 50\n",
        "learning_rate = 0.1\n",
        "\n",
        "model_single = NeuralNetMLPSingle(n_hidden=100, l2=0.1, epochs=num_epochs, eta=learning_rate)\n",
        "losses_single, train_acc_single, valid_acc_single = train(model_single, X_train, y_train, X_valid, y_valid, num_epochs, learning_rate)\n",
        "\n",
        "# Evaluate on the test set\n",
        "test_mse_single, test_acc_single = compute_mse_and_acc(model_single, X_test, y_test)\n",
        "\n",
        "print(f\"Single Hidden Layer Model:\")\n",
        "print(f\"Test Accuracy: {test_acc_single*100:.2f}%\")\n",
        "print(f'Initial valid MSE: {test_mse_single:.1f}')\n"
      ],
      "metadata": {
        "colab": {
          "base_uri": "https://localhost:8080/"
        },
        "id": "DhamtUeH2K5R",
        "outputId": "7545bf0b-6dbe-49f6-acbe-9023636c855d"
      },
      "execution_count": null,
      "outputs": [
        {
          "metadata": {
            "tags": null
          },
          "name": "stdout",
          "output_type": "stream",
          "text": [
            "Epoch 1/50 | Train Loss: 8.65 | Train Acc: 0.09 | Valid Acc: 0.09\n",
            "Epoch 2/50 | Train Loss: 10.75 | Train Acc: 0.10 | Valid Acc: 0.10\n",
            "Epoch 3/50 | Train Loss: 20.27 | Train Acc: 0.11 | Valid Acc: 0.11\n",
            "Epoch 4/50 | Train Loss: 8.65 | Train Acc: 0.09 | Valid Acc: 0.09\n",
            "Epoch 5/50 | Train Loss: 8.56 | Train Acc: 0.10 | Valid Acc: 0.10\n",
            "Epoch 6/50 | Train Loss: 8.65 | Train Acc: 0.09 | Valid Acc: 0.09\n",
            "Epoch 7/50 | Train Loss: 29.03 | Train Acc: 0.10 | Valid Acc: 0.10\n",
            "Epoch 8/50 | Train Loss: 29.03 | Train Acc: 0.10 | Valid Acc: 0.10\n",
            "Epoch 9/50 | Train Loss: 8.56 | Train Acc: 0.10 | Valid Acc: 0.10\n",
            "Epoch 10/50 | Train Loss: 8.65 | Train Acc: 0.09 | Valid Acc: 0.09\n",
            "Epoch 11/50 | Train Loss: 20.27 | Train Acc: 0.11 | Valid Acc: 0.11\n"
          ]
        }
      ]
    },
    {
      "cell_type": "markdown",
      "metadata": {
        "id": "q49w1nF31vi1"
      },
      "source": [
        "# **Implementing a multi-layer perceptron and multi-hiden-layer ANN**\n",
        "\n",
        "\n"
      ]
    },
    {
      "cell_type": "code",
      "execution_count": 11,
      "metadata": {
        "id": "Nq8Cvv561vi1"
      },
      "outputs": [],
      "source": [
        "import numpy as np"
      ]
    },
    {
      "cell_type": "code",
      "execution_count": 12,
      "metadata": {
        "id": "RFx6Oy751vi1"
      },
      "outputs": [],
      "source": [
        "##########################\n",
        "### MODEL\n",
        "##########################\n",
        "\n",
        "def sigmoid(z):\n",
        "    return 1. / (1. + np.exp(-z))\n",
        "\n",
        "\n",
        "def int_to_onehot(y, num_labels):\n",
        "\n",
        "    ary = np.zeros((y.shape[0], num_labels))\n",
        "    for i, val in enumerate(y):\n",
        "        ary[i, val] = 1\n",
        "\n",
        "    return ary\n",
        "\n",
        "\n",
        "class NeuralNetMLP:\n",
        "\n",
        "    def __init__(self, num_features, num_hidden1, num_hidden2, num_classes, random_seed=123):\n",
        "        super().__init__()\n",
        "\n",
        "        self.num_classes = num_classes\n",
        "\n",
        "        # hidden layers\n",
        "        rng = np.random.RandomState(random_seed)\n",
        "\n",
        "        self.weight_h1 = rng.normal(loc=0.0, scale=0.1, size=(num_hidden1, num_features))\n",
        "        self.bias_h1 = np.zeros(num_hidden1)\n",
        "\n",
        "        self.weight_h2 = rng.normal(loc=0.0, scale=0.1, size=(num_hidden2, num_hidden1))\n",
        "        self.bias_h2 = np.zeros(num_hidden2)\n",
        "\n",
        "        # output layer\n",
        "        self.weight_out = rng.normal(loc=0.0, scale=0.1, size=(num_classes, num_hidden2))\n",
        "        self.bias_out = np.zeros(num_classes)\n",
        "\n",
        "    def forward(self, x):\n",
        "        # Hidden layer 1\n",
        "        z_h1 = np.dot(x, self.weight_h1.T) + self.bias_h1\n",
        "        a_h1 = sigmoid(z_h1)\n",
        "\n",
        "        # Hidden layer 2\n",
        "        z_h2 = np.dot(a_h1, self.weight_h2.T) + self.bias_h2\n",
        "        a_h2 = sigmoid(z_h2)\n",
        "\n",
        "        # Output layer\n",
        "        z_out = np.dot(a_h2, self.weight_out.T) + self.bias_out\n",
        "        a_out = sigmoid(z_out)\n",
        "\n",
        "        return a_h1, a_h2, a_out\n",
        "\n",
        "    def backward(self, x, a_h1, a_h2, a_out, y):\n",
        "        # Output layer weights gradients\n",
        "        y_onehot = int_to_onehot(y, self.num_classes)\n",
        "        d_loss__d_a_out = 2. * (a_out - y_onehot) / y.shape[0]\n",
        "        d_a_out__d_z_out = a_out * (1. - a_out)\n",
        "        delta_out = d_loss__d_a_out * d_a_out__d_z_out\n",
        "\n",
        "        d_z_out__dw_out = a_h2\n",
        "        d_loss__dw_out = np.dot(delta_out.T, d_z_out__dw_out)\n",
        "        d_loss__db_out = np.sum(delta_out, axis=0)\n",
        "\n",
        "        # Hidden layer 2 weights gradients\n",
        "        d_z_out__a_h2 = self.weight_out\n",
        "        d_loss__a_h2 = np.dot(delta_out, d_z_out__a_h2)\n",
        "        d_a_h2__d_z_h2 = a_h2 * (1. - a_h2)\n",
        "        d_z_h2__dw_h2 = a_h1\n",
        "        d_loss__dw_h2 = np.dot((d_loss__a_h2 * d_a_h2__d_z_h2).T, d_z_h2__dw_h2)\n",
        "        d_loss__db_h2 = np.sum(d_loss__a_h2 * d_a_h2__d_z_h2, axis=0)\n",
        "\n",
        "        # Hidden layer 1 weights gradients\n",
        "        d_z_h2__a_h1 = self.weight_h2\n",
        "        d_loss__a_h1 = np.dot(d_loss__a_h2 * d_a_h2__d_z_h2, d_z_h2__a_h1)\n",
        "        d_a_h1__d_z_h1 = a_h1 * (1. - a_h1)\n",
        "        d_z_h1__dw_h1 = x\n",
        "        d_loss__dw_h1 = np.dot((d_loss__a_h1 * d_a_h1__d_z_h1).T, d_z_h1__dw_h1)\n",
        "        d_loss__db_h1 = np.sum(d_loss__a_h1 * d_a_h1__d_z_h1, axis=0)\n",
        "\n",
        "        return (d_loss__dw_out, d_loss__db_out,\n",
        "                d_loss__dw_h2, d_loss__db_h2,\n",
        "                d_loss__dw_h1, d_loss__db_h1)\n",
        "        #################################\n",
        "        # Part 2: dLoss/dHiddenWeights\n",
        "        ## = DeltaOut * dOutNet/dHiddenAct * dHiddenAct/dHiddenNet * dHiddenNet/dWeight\n",
        "\n",
        "        # [n_classes, n_hidden]\n",
        "        d_z_out__a_h = self.weight_out\n",
        "\n",
        "        # output dim: [n_examples, n_hidden]\n",
        "        d_loss__a_h = np.dot(delta_out, d_z_out__a_h)\n",
        "\n",
        "        # [n_examples, n_hidden]\n",
        "        d_a_h__d_z_h = a_h * (1. - a_h) # sigmoid derivative\n",
        "\n",
        "        # [n_examples, n_features]\n",
        "        d_z_h__d_w_h = x\n",
        "\n",
        "        # output dim: [n_hidden, n_features]\n",
        "        d_loss__d_w_h = np.dot((d_loss__a_h * d_a_h__d_z_h).T, d_z_h__d_w_h)\n",
        "        d_loss__d_b_h = np.sum((d_loss__a_h * d_a_h__d_z_h), axis=0)\n",
        "\n",
        "        return (d_loss__dw_out, d_loss__db_out,\n",
        "                d_loss__d_w_h, d_loss__d_b_h)"
      ]
    },
    {
      "cell_type": "code",
      "execution_count": 30,
      "metadata": {
        "id": "GezBlrAg1vjA"
      },
      "outputs": [],
      "source": [
        "def train(model, X_train, y_train, X_valid, y_valid, num_epochs,\n",
        "          learning_rate=0.1):\n",
        "\n",
        "    epoch_loss = []\n",
        "    epoch_train_acc = []\n",
        "    epoch_valid_acc = []\n",
        "\n",
        "    for e in range(num_epochs):\n",
        "\n",
        "        # iterate over minibatches\n",
        "        minibatch_gen = minibatch_generator(\n",
        "            X_train, y_train, minibatch_size)\n",
        "\n",
        "        for X_train_mini, y_train_mini in minibatch_gen:\n",
        "\n",
        "            #### Compute outputs ####\n",
        "            a_h1, a_h2, a_out = model.forward(X_train_mini)\n",
        "\n",
        "            #### Compute gradients ####\n",
        "            d_loss__d_w_out, d_loss__d_b_out, d_loss__d_w_h2, d_loss__d_b_h2, d_loss__d_w_h1, d_loss__d_b_h1 = \\\n",
        "                model.backward(X_train_mini, a_h1, a_h2, a_out, y_train_mini)\n",
        "\n",
        "            #### Update weights ####\n",
        "            model.weight_h1 -= learning_rate * d_loss__d_w_h1\n",
        "            model.bias_h1 -= learning_rate * d_loss__d_b_h1\n",
        "            model.weight_h2 -= learning_rate * d_loss__d_w_h2\n",
        "            model.bias_h2 -= learning_rate * d_loss__d_b_h2\n",
        "            model.weight_out -= learning_rate * d_loss__d_w_out\n",
        "            model.bias_out -= learning_rate * d_loss__d_b_out\n",
        "\n",
        "        #### Epoch Logging ####\n",
        "        train_mse, train_acc = compute_mse_and_acc(model, X_train, y_train)\n",
        "        valid_mse, valid_acc = compute_mse_and_acc(model, X_valid, y_valid)\n",
        "        train_acc, valid_acc = train_acc*100, valid_acc*100\n",
        "        epoch_train_acc.append(train_acc)\n",
        "        epoch_valid_acc.append(valid_acc)\n",
        "        epoch_loss.append(train_mse)\n",
        "        print(f'Epoch: {e+1:03d}/{num_epochs:03d} '\n",
        "              f'| Train MSE: {train_mse:.2f} '\n",
        "              f'| Train Acc: {train_acc:.2f}% '\n",
        "              f'| Valid Acc: {valid_acc:.2f}%')\n",
        "\n",
        "    return epoch_loss, epoch_train_acc, epoch_valid_acc, train_mse\n"
      ]
    },
    {
      "cell_type": "code",
      "execution_count": 27,
      "metadata": {
        "id": "1dx9dNET1vi9"
      },
      "outputs": [],
      "source": [
        "\n",
        "# Define the model with two hidden layers\n",
        "model = NeuralNetMLP(num_features=28*28, num_hidden1=50, num_hidden2=50, num_classes=10)\n"
      ]
    },
    {
      "cell_type": "code",
      "execution_count": 33,
      "metadata": {
        "colab": {
          "base_uri": "https://localhost:8080/"
        },
        "id": "QU8Nw2Nj1vjB",
        "outputId": "29ea74e4-148b-4aa5-9221-f20d7a9965a6"
      },
      "outputs": [
        {
          "output_type": "stream",
          "name": "stdout",
          "text": [
            "Epoch: 001/050 | Train MSE: 0.00 | Train Acc: 98.52% | Valid Acc: 96.24%\n",
            "Epoch: 002/050 | Train MSE: 0.00 | Train Acc: 98.50% | Valid Acc: 96.24%\n",
            "Epoch: 003/050 | Train MSE: 0.00 | Train Acc: 98.55% | Valid Acc: 96.42%\n",
            "Epoch: 004/050 | Train MSE: 0.00 | Train Acc: 98.55% | Valid Acc: 96.46%\n",
            "Epoch: 005/050 | Train MSE: 0.00 | Train Acc: 98.56% | Valid Acc: 96.38%\n",
            "Epoch: 006/050 | Train MSE: 0.00 | Train Acc: 98.53% | Valid Acc: 96.24%\n",
            "Epoch: 007/050 | Train MSE: 0.00 | Train Acc: 98.57% | Valid Acc: 96.24%\n",
            "Epoch: 008/050 | Train MSE: 0.00 | Train Acc: 98.58% | Valid Acc: 96.22%\n",
            "Epoch: 009/050 | Train MSE: 0.00 | Train Acc: 98.61% | Valid Acc: 96.30%\n",
            "Epoch: 010/050 | Train MSE: 0.00 | Train Acc: 98.62% | Valid Acc: 96.30%\n",
            "Epoch: 011/050 | Train MSE: 0.00 | Train Acc: 98.61% | Valid Acc: 96.38%\n",
            "Epoch: 012/050 | Train MSE: 0.00 | Train Acc: 98.61% | Valid Acc: 96.40%\n",
            "Epoch: 013/050 | Train MSE: 0.00 | Train Acc: 98.62% | Valid Acc: 96.38%\n",
            "Epoch: 014/050 | Train MSE: 0.00 | Train Acc: 98.64% | Valid Acc: 96.34%\n",
            "Epoch: 015/050 | Train MSE: 0.00 | Train Acc: 98.64% | Valid Acc: 96.44%\n",
            "Epoch: 016/050 | Train MSE: 0.00 | Train Acc: 98.64% | Valid Acc: 96.36%\n",
            "Epoch: 017/050 | Train MSE: 0.00 | Train Acc: 98.65% | Valid Acc: 96.42%\n",
            "Epoch: 018/050 | Train MSE: 0.00 | Train Acc: 98.69% | Valid Acc: 96.36%\n",
            "Epoch: 019/050 | Train MSE: 0.00 | Train Acc: 98.68% | Valid Acc: 96.36%\n",
            "Epoch: 020/050 | Train MSE: 0.00 | Train Acc: 98.68% | Valid Acc: 96.44%\n",
            "Epoch: 021/050 | Train MSE: 0.00 | Train Acc: 98.71% | Valid Acc: 96.34%\n",
            "Epoch: 022/050 | Train MSE: 0.00 | Train Acc: 98.69% | Valid Acc: 96.32%\n",
            "Epoch: 023/050 | Train MSE: 0.00 | Train Acc: 98.71% | Valid Acc: 96.32%\n",
            "Epoch: 024/050 | Train MSE: 0.00 | Train Acc: 98.72% | Valid Acc: 96.36%\n",
            "Epoch: 025/050 | Train MSE: 0.00 | Train Acc: 98.72% | Valid Acc: 96.28%\n",
            "Epoch: 026/050 | Train MSE: 0.00 | Train Acc: 98.75% | Valid Acc: 96.44%\n",
            "Epoch: 027/050 | Train MSE: 0.00 | Train Acc: 98.75% | Valid Acc: 96.36%\n",
            "Epoch: 028/050 | Train MSE: 0.00 | Train Acc: 98.74% | Valid Acc: 96.42%\n",
            "Epoch: 029/050 | Train MSE: 0.00 | Train Acc: 98.75% | Valid Acc: 96.32%\n",
            "Epoch: 030/050 | Train MSE: 0.00 | Train Acc: 98.77% | Valid Acc: 96.30%\n",
            "Epoch: 031/050 | Train MSE: 0.00 | Train Acc: 98.78% | Valid Acc: 96.32%\n",
            "Epoch: 032/050 | Train MSE: 0.00 | Train Acc: 98.78% | Valid Acc: 96.46%\n",
            "Epoch: 033/050 | Train MSE: 0.00 | Train Acc: 98.77% | Valid Acc: 96.34%\n",
            "Epoch: 034/050 | Train MSE: 0.00 | Train Acc: 98.77% | Valid Acc: 96.42%\n",
            "Epoch: 035/050 | Train MSE: 0.00 | Train Acc: 98.79% | Valid Acc: 96.36%\n",
            "Epoch: 036/050 | Train MSE: 0.00 | Train Acc: 98.82% | Valid Acc: 96.40%\n",
            "Epoch: 037/050 | Train MSE: 0.00 | Train Acc: 98.81% | Valid Acc: 96.40%\n",
            "Epoch: 038/050 | Train MSE: 0.00 | Train Acc: 98.82% | Valid Acc: 96.46%\n",
            "Epoch: 039/050 | Train MSE: 0.00 | Train Acc: 98.82% | Valid Acc: 96.32%\n",
            "Epoch: 040/050 | Train MSE: 0.00 | Train Acc: 98.83% | Valid Acc: 96.44%\n",
            "Epoch: 041/050 | Train MSE: 0.00 | Train Acc: 98.83% | Valid Acc: 96.40%\n",
            "Epoch: 042/050 | Train MSE: 0.00 | Train Acc: 98.84% | Valid Acc: 96.40%\n",
            "Epoch: 043/050 | Train MSE: 0.00 | Train Acc: 98.81% | Valid Acc: 96.44%\n",
            "Epoch: 044/050 | Train MSE: 0.00 | Train Acc: 98.85% | Valid Acc: 96.42%\n",
            "Epoch: 045/050 | Train MSE: 0.00 | Train Acc: 98.88% | Valid Acc: 96.34%\n",
            "Epoch: 046/050 | Train MSE: 0.00 | Train Acc: 98.86% | Valid Acc: 96.42%\n",
            "Epoch: 047/050 | Train MSE: 0.00 | Train Acc: 98.87% | Valid Acc: 96.44%\n",
            "Epoch: 048/050 | Train MSE: 0.00 | Train Acc: 98.86% | Valid Acc: 96.46%\n",
            "Epoch: 049/050 | Train MSE: 0.00 | Train Acc: 98.87% | Valid Acc: 96.36%\n",
            "Epoch: 050/050 | Train MSE: 0.00 | Train Acc: 98.87% | Valid Acc: 96.36%\n",
            "Two Hidden Layer Model:\n",
            "Test Accuracy: 96.37%\n",
            "Initial valid MSE: 0.0\n"
          ]
        }
      ],
      "source": [
        "np.random.seed(123) # for the training set shuffling\n",
        "\n",
        "# Train the model\n",
        "epoch_loss, epoch_train_acc, epoch_valid_acc, train_mse = train(model, X_train, y_train, X_valid, y_valid, num_epochs=50, learning_rate=0.1)\n",
        "print(f\"Two Hidden Layer Model:\")\n",
        "print(f\"Test Accuracy: {np.mean(epoch_valid_acc):.2f}%\")\n",
        "print(f'Initial valid MSE: {train_mse:.1f}')\n",
        "\n"
      ]
    },
    {
      "cell_type": "markdown",
      "source": [
        "# **fully connected ANN implemented using Keras**"
      ],
      "metadata": {
        "id": "zvOTJJpcz_-D"
      }
    },
    {
      "cell_type": "code",
      "source": [
        "import keras\n",
        "from keras.models import Sequential\n",
        "from keras.layers import Dense\n",
        "from keras.utils import to_categorical\n",
        "\n",
        "# Convert target labels to categorical format\n",
        "y_train_categorical = to_categorical(y_train)\n",
        "y_valid_categorical = to_categorical(y_valid)\n",
        "\n",
        "# Define the model architecture\n",
        "model_keras = Sequential()\n",
        "model_keras.add(Dense(units=100, activation='relu', input_dim=X_train.shape[1]))\n",
        "model_keras.add(Dense(units=10, activation='softmax'))\n",
        "\n",
        "# Compile the model\n",
        "model_keras.compile(loss='categorical_crossentropy', optimizer='adam', metrics=['accuracy'])\n",
        "\n",
        "# Train the model\n",
        "history = model_keras.fit(X_train, y_train_categorical, epochs=num_epochs, batch_size=minibatch_size, validation_data=(X_valid, y_valid_categorical))\n",
        "\n",
        "# Evaluate on the test set\n",
        "y_test_categorical = to_categorical(y_test)\n",
        "test_loss_keras, test_acc_keras = model_keras.evaluate(X_test, y_test_categorical, verbose=0)\n",
        "\n",
        "print(f\"Keras Fully Connected ANN:\")\n",
        "print(f\"Test Accuracy: {test_acc_keras*100:.2f}%\")\n"
      ],
      "metadata": {
        "colab": {
          "base_uri": "https://localhost:8080/"
        },
        "id": "MrQc4NIO0XCU",
        "outputId": "3d379d8a-6e31-4d3b-b3e0-0110e4dc046c"
      },
      "execution_count": 16,
      "outputs": [
        {
          "output_type": "stream",
          "name": "stdout",
          "text": [
            "Epoch 1/50\n",
            "550/550 [==============================] - 4s 5ms/step - loss: 4.0412 - accuracy: 0.8151 - val_loss: 0.8586 - val_accuracy: 0.8486\n",
            "Epoch 2/50\n",
            "550/550 [==============================] - 3s 5ms/step - loss: 0.5702 - accuracy: 0.8788 - val_loss: 0.5629 - val_accuracy: 0.9024\n",
            "Epoch 3/50\n",
            "550/550 [==============================] - 3s 5ms/step - loss: 0.3691 - accuracy: 0.9138 - val_loss: 0.4670 - val_accuracy: 0.9152\n",
            "Epoch 4/50\n",
            "550/550 [==============================] - 4s 6ms/step - loss: 0.2789 - accuracy: 0.9301 - val_loss: 0.4027 - val_accuracy: 0.9268\n",
            "Epoch 5/50\n",
            "550/550 [==============================] - 2s 4ms/step - loss: 0.2251 - accuracy: 0.9409 - val_loss: 0.3737 - val_accuracy: 0.9294\n",
            "Epoch 6/50\n",
            "550/550 [==============================] - 2s 4ms/step - loss: 0.2042 - accuracy: 0.9450 - val_loss: 0.3443 - val_accuracy: 0.9338\n",
            "Epoch 7/50\n",
            "550/550 [==============================] - 2s 4ms/step - loss: 0.1792 - accuracy: 0.9504 - val_loss: 0.3267 - val_accuracy: 0.9410\n",
            "Epoch 8/50\n",
            "550/550 [==============================] - 2s 4ms/step - loss: 0.1657 - accuracy: 0.9540 - val_loss: 0.3129 - val_accuracy: 0.9370\n",
            "Epoch 9/50\n",
            "550/550 [==============================] - 3s 6ms/step - loss: 0.1586 - accuracy: 0.9562 - val_loss: 0.3275 - val_accuracy: 0.9414\n",
            "Epoch 10/50\n",
            "550/550 [==============================] - 2s 4ms/step - loss: 0.1469 - accuracy: 0.9595 - val_loss: 0.2897 - val_accuracy: 0.9462\n",
            "Epoch 11/50\n",
            "550/550 [==============================] - 2s 4ms/step - loss: 0.1423 - accuracy: 0.9605 - val_loss: 0.2624 - val_accuracy: 0.9504\n",
            "Epoch 12/50\n",
            "550/550 [==============================] - 2s 4ms/step - loss: 0.1362 - accuracy: 0.9625 - val_loss: 0.2655 - val_accuracy: 0.9478\n",
            "Epoch 13/50\n",
            "550/550 [==============================] - 2s 4ms/step - loss: 0.1289 - accuracy: 0.9638 - val_loss: 0.2215 - val_accuracy: 0.9532\n",
            "Epoch 14/50\n",
            "550/550 [==============================] - 3s 6ms/step - loss: 0.1167 - accuracy: 0.9669 - val_loss: 0.2346 - val_accuracy: 0.9508\n",
            "Epoch 15/50\n",
            "550/550 [==============================] - 2s 4ms/step - loss: 0.1174 - accuracy: 0.9668 - val_loss: 0.2429 - val_accuracy: 0.9526\n",
            "Epoch 16/50\n",
            "550/550 [==============================] - 2s 4ms/step - loss: 0.1135 - accuracy: 0.9689 - val_loss: 0.2632 - val_accuracy: 0.9508\n",
            "Epoch 17/50\n",
            "550/550 [==============================] - 2s 4ms/step - loss: 0.1123 - accuracy: 0.9682 - val_loss: 0.2445 - val_accuracy: 0.9526\n",
            "Epoch 18/50\n",
            "550/550 [==============================] - 2s 4ms/step - loss: 0.1019 - accuracy: 0.9711 - val_loss: 0.2396 - val_accuracy: 0.9564\n",
            "Epoch 19/50\n",
            "550/550 [==============================] - 3s 6ms/step - loss: 0.1068 - accuracy: 0.9699 - val_loss: 0.2459 - val_accuracy: 0.9538\n",
            "Epoch 20/50\n",
            "550/550 [==============================] - 3s 5ms/step - loss: 0.0954 - accuracy: 0.9725 - val_loss: 0.2899 - val_accuracy: 0.9480\n",
            "Epoch 21/50\n",
            "550/550 [==============================] - 3s 6ms/step - loss: 0.0971 - accuracy: 0.9732 - val_loss: 0.2373 - val_accuracy: 0.9602\n",
            "Epoch 22/50\n",
            "550/550 [==============================] - 2s 4ms/step - loss: 0.0914 - accuracy: 0.9751 - val_loss: 0.2442 - val_accuracy: 0.9566\n",
            "Epoch 23/50\n",
            "550/550 [==============================] - 3s 5ms/step - loss: 0.0874 - accuracy: 0.9746 - val_loss: 0.2372 - val_accuracy: 0.9588\n",
            "Epoch 24/50\n",
            "550/550 [==============================] - 3s 5ms/step - loss: 0.0892 - accuracy: 0.9758 - val_loss: 0.2566 - val_accuracy: 0.9526\n",
            "Epoch 25/50\n",
            "550/550 [==============================] - 2s 4ms/step - loss: 0.0849 - accuracy: 0.9761 - val_loss: 0.3017 - val_accuracy: 0.9546\n",
            "Epoch 26/50\n",
            "550/550 [==============================] - 2s 4ms/step - loss: 0.0879 - accuracy: 0.9770 - val_loss: 0.2473 - val_accuracy: 0.9618\n",
            "Epoch 27/50\n",
            "550/550 [==============================] - 2s 5ms/step - loss: 0.0807 - accuracy: 0.9772 - val_loss: 0.2709 - val_accuracy: 0.9578\n",
            "Epoch 28/50\n",
            "550/550 [==============================] - 3s 5ms/step - loss: 0.0857 - accuracy: 0.9780 - val_loss: 0.2646 - val_accuracy: 0.9574\n",
            "Epoch 29/50\n",
            "550/550 [==============================] - 3s 5ms/step - loss: 0.0781 - accuracy: 0.9786 - val_loss: 0.2823 - val_accuracy: 0.9600\n",
            "Epoch 30/50\n",
            "550/550 [==============================] - 2s 4ms/step - loss: 0.0752 - accuracy: 0.9788 - val_loss: 0.3017 - val_accuracy: 0.9596\n",
            "Epoch 31/50\n",
            "550/550 [==============================] - 2s 4ms/step - loss: 0.0786 - accuracy: 0.9790 - val_loss: 0.3023 - val_accuracy: 0.9614\n",
            "Epoch 32/50\n",
            "550/550 [==============================] - 2s 4ms/step - loss: 0.0735 - accuracy: 0.9795 - val_loss: 0.3135 - val_accuracy: 0.9596\n",
            "Epoch 33/50\n",
            "550/550 [==============================] - 2s 4ms/step - loss: 0.0733 - accuracy: 0.9803 - val_loss: 0.3341 - val_accuracy: 0.9564\n",
            "Epoch 34/50\n",
            "550/550 [==============================] - 3s 6ms/step - loss: 0.0795 - accuracy: 0.9793 - val_loss: 0.2912 - val_accuracy: 0.9590\n",
            "Epoch 35/50\n",
            "550/550 [==============================] - 2s 4ms/step - loss: 0.0696 - accuracy: 0.9806 - val_loss: 0.2927 - val_accuracy: 0.9630\n",
            "Epoch 36/50\n",
            "550/550 [==============================] - 2s 4ms/step - loss: 0.0707 - accuracy: 0.9813 - val_loss: 0.3378 - val_accuracy: 0.9532\n",
            "Epoch 37/50\n",
            "550/550 [==============================] - 2s 5ms/step - loss: 0.0692 - accuracy: 0.9814 - val_loss: 0.3604 - val_accuracy: 0.9604\n",
            "Epoch 38/50\n",
            "550/550 [==============================] - 3s 5ms/step - loss: 0.0750 - accuracy: 0.9811 - val_loss: 0.3256 - val_accuracy: 0.9614\n",
            "Epoch 39/50\n",
            "550/550 [==============================] - 3s 6ms/step - loss: 0.0697 - accuracy: 0.9815 - val_loss: 0.4045 - val_accuracy: 0.9600\n",
            "Epoch 40/50\n",
            "550/550 [==============================] - 2s 4ms/step - loss: 0.0670 - accuracy: 0.9816 - val_loss: 0.3527 - val_accuracy: 0.9610\n",
            "Epoch 41/50\n",
            "550/550 [==============================] - 2s 4ms/step - loss: 0.0699 - accuracy: 0.9822 - val_loss: 0.3476 - val_accuracy: 0.9608\n",
            "Epoch 42/50\n",
            "550/550 [==============================] - 2s 4ms/step - loss: 0.0586 - accuracy: 0.9834 - val_loss: 0.3250 - val_accuracy: 0.9650\n",
            "Epoch 43/50\n",
            "550/550 [==============================] - 3s 5ms/step - loss: 0.0643 - accuracy: 0.9831 - val_loss: 0.3761 - val_accuracy: 0.9578\n",
            "Epoch 44/50\n",
            "550/550 [==============================] - 3s 6ms/step - loss: 0.0694 - accuracy: 0.9823 - val_loss: 0.4071 - val_accuracy: 0.9586\n",
            "Epoch 45/50\n",
            "550/550 [==============================] - 2s 4ms/step - loss: 0.0592 - accuracy: 0.9840 - val_loss: 0.3548 - val_accuracy: 0.9602\n",
            "Epoch 46/50\n",
            "550/550 [==============================] - 2s 5ms/step - loss: 0.0654 - accuracy: 0.9834 - val_loss: 0.4430 - val_accuracy: 0.9598\n",
            "Epoch 47/50\n",
            "550/550 [==============================] - 2s 4ms/step - loss: 0.0710 - accuracy: 0.9827 - val_loss: 0.3585 - val_accuracy: 0.9598\n",
            "Epoch 48/50\n",
            "550/550 [==============================] - 3s 5ms/step - loss: 0.0567 - accuracy: 0.9851 - val_loss: 0.4023 - val_accuracy: 0.9622\n",
            "Epoch 49/50\n",
            "550/550 [==============================] - 3s 6ms/step - loss: 0.0614 - accuracy: 0.9841 - val_loss: 0.4300 - val_accuracy: 0.9622\n",
            "Epoch 50/50\n",
            "550/550 [==============================] - 2s 4ms/step - loss: 0.0603 - accuracy: 0.9842 - val_loss: 0.4784 - val_accuracy: 0.9578\n",
            "Keras Fully Connected ANN:\n",
            "Test Accuracy: 95.45%\n"
          ]
        }
      ]
    },
    {
      "cell_type": "markdown",
      "metadata": {
        "id": "zKdarrlw1vi-"
      },
      "source": [
        "## Coding the neural network training loop\n",
        "\n",
        "\n"
      ]
    },
    {
      "cell_type": "markdown",
      "metadata": {
        "id": "F1BgtJ3-1vi-"
      },
      "source": [
        "Defining data loaders:"
      ]
    },
    {
      "cell_type": "code",
      "execution_count": 15,
      "metadata": {
        "colab": {
          "base_uri": "https://localhost:8080/"
        },
        "id": "oFChpAZP1vi-",
        "outputId": "a954cef7-b812-4c0f-e35a-1834def3039d"
      },
      "outputs": [
        {
          "output_type": "stream",
          "name": "stdout",
          "text": [
            "(100, 784)\n",
            "(100,)\n"
          ]
        }
      ],
      "source": [
        "import numpy as np\n",
        "\n",
        "num_epochs = 50\n",
        "minibatch_size = 100\n",
        "\n",
        "\n",
        "def minibatch_generator(X, y, minibatch_size):\n",
        "    indices = np.arange(X.shape[0])\n",
        "    np.random.shuffle(indices)\n",
        "\n",
        "    for start_idx in range(0, indices.shape[0] - minibatch_size\n",
        "                           + 1, minibatch_size):\n",
        "        batch_idx = indices[start_idx:start_idx + minibatch_size]\n",
        "\n",
        "        yield X[batch_idx], y[batch_idx]\n",
        "\n",
        "\n",
        "# iterate over training epochs\n",
        "for i in range(num_epochs):\n",
        "\n",
        "    # iterate over minibatches\n",
        "    minibatch_gen = minibatch_generator(\n",
        "        X_train, y_train, minibatch_size)\n",
        "\n",
        "    for X_train_mini, y_train_mini in minibatch_gen:\n",
        "\n",
        "        break\n",
        "\n",
        "    break\n",
        "\n",
        "print(X_train_mini.shape)\n",
        "print(y_train_mini.shape)"
      ]
    },
    {
      "cell_type": "markdown",
      "metadata": {
        "id": "ZMHTa_Sr1vi_"
      },
      "source": [
        "Defining a function to compute the loss and accuracy"
      ]
    },
    {
      "cell_type": "code",
      "execution_count": 17,
      "metadata": {
        "colab": {
          "base_uri": "https://localhost:8080/"
        },
        "id": "VzCHNLvJ1vi_",
        "outputId": "37fd78d7-933e-4e86-b9ee-74ffbe2e5407"
      },
      "outputs": [
        {
          "output_type": "stream",
          "name": "stdout",
          "text": [
            "Initial validation MSE: 0.2\n",
            "Initial validation accuracy: 9.0%\n"
          ]
        },
        {
          "output_type": "stream",
          "name": "stderr",
          "text": [
            "<ipython-input-12-e6b9f59fa33e>:6: RuntimeWarning: overflow encountered in exp\n",
            "  return 1. / (1. + np.exp(-z))\n"
          ]
        }
      ],
      "source": [
        "def mse_loss(targets, probas, num_labels=10):\n",
        "    onehot_targets = int_to_onehot(targets, num_labels=num_labels)\n",
        "    return np.mean((onehot_targets - probas)**2)\n",
        "\n",
        "\n",
        "def accuracy(targets, predicted_labels):\n",
        "    return np.mean(predicted_labels == targets)\n",
        "\n",
        "\n",
        "a_h1, a_h2, a_out = model.forward(X_valid)\n",
        "mse = mse_loss(y_valid, a_out)\n",
        "\n",
        "predicted_labels = np.argmax(a_out, axis=1)\n",
        "acc = accuracy(y_valid, predicted_labels)\n",
        "\n",
        "print(f'Initial validation MSE: {mse:.1f}')\n",
        "print(f'Initial validation accuracy: {acc*100:.1f}%')"
      ]
    },
    {
      "cell_type": "code",
      "execution_count": 18,
      "metadata": {
        "id": "EYDXz4jW1vjA"
      },
      "outputs": [],
      "source": [
        "def compute_mse_and_acc(nnet, X, y, num_labels=10, minibatch_size=100):\n",
        "    mse, correct_pred, num_examples = 0., 0, 0\n",
        "    minibatch_gen = minibatch_generator(X, y, minibatch_size)\n",
        "\n",
        "    for i, (features, targets) in enumerate(minibatch_gen):\n",
        "\n",
        "        a_h1, a_h2, a_out = nnet.forward(features)\n",
        "        predicted_labels = np.argmax(a_out, axis=1)\n",
        "\n",
        "        onehot_targets = int_to_onehot(targets, num_labels=num_labels)\n",
        "        loss = np.mean((onehot_targets - a_out)**2)\n",
        "        correct_pred += (predicted_labels == targets).sum()\n",
        "\n",
        "        num_examples += targets.shape[0]\n",
        "        mse += loss\n",
        "\n",
        "    mse = mse/i\n",
        "    acc = correct_pred/num_examples\n",
        "    return mse, acc"
      ]
    },
    {
      "cell_type": "code",
      "execution_count": 19,
      "metadata": {
        "colab": {
          "base_uri": "https://localhost:8080/"
        },
        "id": "heCXBILq1vjA",
        "outputId": "4d3416ea-2665-405e-b7c4-16ccd03efc35"
      },
      "outputs": [
        {
          "output_type": "stream",
          "name": "stdout",
          "text": [
            "Initial valid MSE: 0.3\n",
            "Initial valid accuracy: 9.0%\n"
          ]
        },
        {
          "output_type": "stream",
          "name": "stderr",
          "text": [
            "<ipython-input-12-e6b9f59fa33e>:6: RuntimeWarning: overflow encountered in exp\n",
            "  return 1. / (1. + np.exp(-z))\n"
          ]
        }
      ],
      "source": [
        "mse, acc = compute_mse_and_acc(model, X_valid, y_valid)\n",
        "print(f'Initial valid MSE: {mse:.1f}')\n",
        "print(f'Initial valid accuracy: {acc*100:.1f}%')"
      ]
    },
    {
      "cell_type": "markdown",
      "metadata": {
        "id": "CXI7Xhtw1vjB"
      },
      "source": [
        "## Evaluating the neural network performance"
      ]
    },
    {
      "cell_type": "code",
      "execution_count": 34,
      "metadata": {
        "colab": {
          "base_uri": "https://localhost:8080/",
          "height": 449
        },
        "id": "yswr95Nz1vjB",
        "outputId": "261e31d2-9438-4558-c084-ce635c94bb43"
      },
      "outputs": [
        {
          "output_type": "display_data",
          "data": {
            "text/plain": [
              "<Figure size 640x480 with 1 Axes>"
            ],
            "image/png": "[encoded data removed]"
          },
          "metadata": {}
        }
      ],
      "source": [
        "plt.plot(range(len(epoch_loss)), epoch_loss)\n",
        "plt.ylabel('Mean squared error')\n",
        "plt.xlabel('Epoch')\n",
        "#plt.savefig('figures/11_07.png', dpi=300)\n",
        "plt.show()"
      ]
    },
    {
      "cell_type": "code",
      "execution_count": 35,
      "metadata": {
        "colab": {
          "base_uri": "https://localhost:8080/",
          "height": 454
        },
        "id": "EWnAib-O1vjC",
        "outputId": "f1af2170-0943-4664-da6c-ca89c284e407"
      },
      "outputs": [
        {
          "output_type": "display_data",
          "data": {
            "text/plain": [
              "<Figure size 640x480 with 1 Axes>"
            ],
            "image/png": "[encoded data removed]"
          },
          "metadata": {}
        }
      ],
      "source": [
        "plt.plot(range(len(epoch_train_acc)), epoch_train_acc,\n",
        "         label='Training')\n",
        "plt.plot(range(len(epoch_valid_acc)), epoch_valid_acc,\n",
        "         label='Validation')\n",
        "plt.ylabel('Accuracy')\n",
        "plt.xlabel('Epochs')\n",
        "plt.legend(loc='lower right')\n",
        "#plt.savefig('figures/11_08.png', dpi=300)\n",
        "plt.show()"
      ]
    },
    {
      "cell_type": "code",
      "execution_count": 36,
      "metadata": {
        "colab": {
          "base_uri": "https://localhost:8080/"
        },
        "id": "Gm17XYwq1vjC",
        "outputId": "a3cc6e05-727f-4742-9325-69c3332b94fa"
      },
      "outputs": [
        {
          "output_type": "stream",
          "name": "stdout",
          "text": [
            "Test MSE: 0.01\n",
            "Test Accuracy: 96.65%\n"
          ]
        }
      ],
      "source": [
        "# Evaluate on test data\n",
        "test_mse, test_acc = compute_mse_and_acc(model, X_test, y_test)\n",
        "test_acc *= 100\n",
        "\n",
        "print(f'Test MSE: {test_mse:.2f}')\n",
        "print(f'Test Accuracy: {test_acc:.2f}%')"
      ]
    }
  ],
  "metadata": {
    "anaconda-cloud": {},
    "kernelspec": {
      "display_name": "Python 3 (ipykernel)",
      "language": "python",
      "name": "python3"
    },
    "language_info": {
      "codemirror_mode": {
        "name": "ipython",
        "version": 3
      },
      "file_extension": ".py",
      "mimetype": "text/x-python",
      "name": "python",
      "nbconvert_exporter": "python",
      "pygments_lexer": "ipython3",
      "version": "3.9.7"
    },
    "colab": {
      "provenance": []
    }
  },
  "nbformat": 4,
  "nbformat_minor": 0
}