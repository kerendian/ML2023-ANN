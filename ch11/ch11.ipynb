{
  "cells": [
    {
      "cell_type": "markdown",
      "metadata": {
        "tags": [],
        "id": "S7SXtri_1vik"
      },
      "source": [
        "# Machine Learning with PyTorch and Scikit-Learn  \n",
        "# -- Code Examples"
      ]
    },
    {
      "cell_type": "markdown",
      "metadata": {
        "id": "9t2jUKhx1vip"
      },
      "source": [
        "## Package version checks"
      ]
    },
    {
      "cell_type": "markdown",
      "metadata": {
        "id": "pnjjF6RN1vip"
      },
      "source": [
        "Add folder to path in order to load from the check_packages.py script:"
      ]
    },
    {
      "cell_type": "code",
      "execution_count": 1,
      "metadata": {
        "id": "KMw22g_u1viq"
      },
      "outputs": [],
      "source": [
        "import sys\n",
        "sys.path.insert(0, '..')"
      ]
    },
    {
      "cell_type": "markdown",
      "metadata": {
        "id": "esQknR6v1vis"
      },
      "source": [
        "Check recommended package versions:"
      ]
    },
    {
      "cell_type": "code",
      "source": [
        "!pip install python_environment_check\n"
      ],
      "metadata": {
        "colab": {
          "base_uri": "https://localhost:8080/"
        },
        "id": "VG_W_ZLC2I-3",
        "outputId": "839eabeb-df12-4b51-9a63-0c9644778db1"
      },
      "execution_count": 8,
      "outputs": [
        {
          "output_type": "stream",
          "name": "stdout",
          "text": [
            "Looking in indexes: https://pypi.org/simple, https://us-python.pkg.dev/colab-wheels/public/simple/\n",
            "\u001b[31mERROR: Could not find a version that satisfies the requirement python_environment_check (from versions: none)\u001b[0m\u001b[31m\n",
            "\u001b[0m\u001b[31mERROR: No matching distribution found for python_environment_check\u001b[0m\u001b[31m\n",
            "\u001b[0m"
          ]
        }
      ]
    },
    {
      "cell_type": "code",
      "execution_count": 7,
      "metadata": {
        "colab": {
          "base_uri": "https://localhost:8080/",
          "height": 426
        },
        "id": "K0hawDrs1vis",
        "outputId": "fbc6f282-7f3e-4e8a-f0cd-ed578f03219b"
      },
      "outputs": [
        {
          "output_type": "stream",
          "name": "stdout",
          "text": [
            "Looking in indexes: https://pypi.org/simple, https://us-python.pkg.dev/colab-wheels/public/simple/\n",
            "\u001b[31mERROR: Could not find a version that satisfies the requirement python_environment_check (from versions: none)\u001b[0m\u001b[31m\n",
            "\u001b[0m\u001b[31mERROR: No matching distribution found for python_environment_check\u001b[0m\u001b[31m\n",
            "\u001b[0m"
          ]
        },
        {
          "output_type": "error",
          "ename": "ModuleNotFoundError",
          "evalue": "ignored",
          "traceback": [
            "\u001b[0;31m---------------------------------------------------------------------------\u001b[0m",
            "\u001b[0;31mModuleNotFoundError\u001b[0m                       Traceback (most recent call last)",
            "\u001b[0;32m<ipython-input-7-bfaa06260700>\u001b[0m in \u001b[0;36m<cell line: 2>\u001b[0;34m()\u001b[0m\n\u001b[1;32m      1\u001b[0m \u001b[0mget_ipython\u001b[0m\u001b[0;34m(\u001b[0m\u001b[0;34m)\u001b[0m\u001b[0;34m.\u001b[0m\u001b[0msystem\u001b[0m\u001b[0;34m(\u001b[0m\u001b[0;34m'pip install python_environment_check'\u001b[0m\u001b[0;34m)\u001b[0m\u001b[0;34m\u001b[0m\u001b[0;34m\u001b[0m\u001b[0m\n\u001b[0;32m----> 2\u001b[0;31m \u001b[0;32mfrom\u001b[0m \u001b[0mpython_environment_check\u001b[0m \u001b[0;32mimport\u001b[0m \u001b[0mcheck_packages\u001b[0m\u001b[0;34m\u001b[0m\u001b[0;34m\u001b[0m\u001b[0m\n\u001b[0m\u001b[1;32m      3\u001b[0m \u001b[0;34m\u001b[0m\u001b[0m\n\u001b[1;32m      4\u001b[0m \u001b[0;34m\u001b[0m\u001b[0m\n\u001b[1;32m      5\u001b[0m d = {\n",
            "\u001b[0;31mModuleNotFoundError\u001b[0m: No module named 'python_environment_check'",
            "",
            "\u001b[0;31m---------------------------------------------------------------------------\u001b[0;32m\nNOTE: If your import is failing due to a missing package, you can\nmanually install dependencies using either !pip or !apt.\n\nTo view examples of installing some common dependencies, click the\n\"Open Examples\" button below.\n\u001b[0;31m---------------------------------------------------------------------------\u001b[0m\n"
          ],
          "errorDetails": {
            "actions": [
              {
                "action": "open_url",
                "actionText": "Open Examples",
                "url": "/notebooks/snippets/importing_libraries.ipynb"
              }
            ]
          }
        }
      ],
      "source": [
        "from python_environment_check import check_packages\n",
        "\n",
        "\n",
        "d = {\n",
        "    'numpy': '1.21.2',\n",
        "    'matplotlib': '3.4.3',\n",
        "    'sklearn': '1.0',\n",
        "}\n",
        "check_packages(d)"
      ]
    },
    {
      "cell_type": "code",
      "execution_count": 9,
      "metadata": {
        "id": "okUas6vL1viw"
      },
      "outputs": [],
      "source": [
        "from IPython.display import Image\n",
        "%matplotlib inline"
      ]
    },
    {
      "cell_type": "markdown",
      "metadata": {
        "id": "nwwyvWgQ1viw"
      },
      "source": [
        "# Modeling complex functions with artificial neural networks"
      ]
    },
    {
      "cell_type": "markdown",
      "metadata": {
        "id": "pTcPkh221viw"
      },
      "source": [
        "..."
      ]
    },
    {
      "cell_type": "markdown",
      "metadata": {
        "id": "uoLG-r_u1vix"
      },
      "source": [
        "## Single-layer neural network recap"
      ]
    },
    {
      "cell_type": "code",
      "execution_count": 10,
      "metadata": {
        "colab": {
          "base_uri": "https://localhost:8080/",
          "height": 311
        },
        "id": "UazMu_8H1vix",
        "outputId": "7a0ca41a-5776-4de9-b82d-ff713a26864b"
      },
      "outputs": [
        {
          "output_type": "error",
          "ename": "FileNotFoundError",
          "evalue": "ignored",
          "traceback": [
            "\u001b[0;31m---------------------------------------------------------------------------\u001b[0m",
            "\u001b[0;31mFileNotFoundError\u001b[0m                         Traceback (most recent call last)",
            "\u001b[0;32m<ipython-input-10-27c1f60cc0a7>\u001b[0m in \u001b[0;36m<cell line: 1>\u001b[0;34m()\u001b[0m\n\u001b[0;32m----> 1\u001b[0;31m \u001b[0mImage\u001b[0m\u001b[0;34m(\u001b[0m\u001b[0mfilename\u001b[0m\u001b[0;34m=\u001b[0m\u001b[0;34m'figures/11_01.png'\u001b[0m\u001b[0;34m,\u001b[0m \u001b[0mwidth\u001b[0m\u001b[0;34m=\u001b[0m\u001b[0;36m600\u001b[0m\u001b[0;34m)\u001b[0m\u001b[0;34m\u001b[0m\u001b[0;34m\u001b[0m\u001b[0m\n\u001b[0m",
            "\u001b[0;32m/usr/local/lib/python3.10/dist-packages/IPython/core/display.py\u001b[0m in \u001b[0;36m__init__\u001b[0;34m(self, data, url, filename, format, embed, width, height, retina, unconfined, metadata)\u001b[0m\n\u001b[1;32m   1229\u001b[0m         \u001b[0mself\u001b[0m\u001b[0;34m.\u001b[0m\u001b[0mretina\u001b[0m \u001b[0;34m=\u001b[0m \u001b[0mretina\u001b[0m\u001b[0;34m\u001b[0m\u001b[0;34m\u001b[0m\u001b[0m\n\u001b[1;32m   1230\u001b[0m         \u001b[0mself\u001b[0m\u001b[0;34m.\u001b[0m\u001b[0munconfined\u001b[0m \u001b[0;34m=\u001b[0m \u001b[0munconfined\u001b[0m\u001b[0;34m\u001b[0m\u001b[0;34m\u001b[0m\u001b[0m\n\u001b[0;32m-> 1231\u001b[0;31m         super(Image, self).__init__(data=data, url=url, filename=filename, \n\u001b[0m\u001b[1;32m   1232\u001b[0m                 metadata=metadata)\n\u001b[1;32m   1233\u001b[0m \u001b[0;34m\u001b[0m\u001b[0m\n",
            "\u001b[0;32m/usr/local/lib/python3.10/dist-packages/IPython/core/display.py\u001b[0m in \u001b[0;36m__init__\u001b[0;34m(self, data, url, filename, metadata)\u001b[0m\n\u001b[1;32m    635\u001b[0m             \u001b[0mself\u001b[0m\u001b[0;34m.\u001b[0m\u001b[0mmetadata\u001b[0m \u001b[0;34m=\u001b[0m \u001b[0;34m{\u001b[0m\u001b[0;34m}\u001b[0m\u001b[0;34m\u001b[0m\u001b[0;34m\u001b[0m\u001b[0m\n\u001b[1;32m    636\u001b[0m \u001b[0;34m\u001b[0m\u001b[0m\n\u001b[0;32m--> 637\u001b[0;31m         \u001b[0mself\u001b[0m\u001b[0;34m.\u001b[0m\u001b[0mreload\u001b[0m\u001b[0;34m(\u001b[0m\u001b[0;34m)\u001b[0m\u001b[0;34m\u001b[0m\u001b[0;34m\u001b[0m\u001b[0m\n\u001b[0m\u001b[1;32m    638\u001b[0m         \u001b[0mself\u001b[0m\u001b[0;34m.\u001b[0m\u001b[0m_check_data\u001b[0m\u001b[0;34m(\u001b[0m\u001b[0;34m)\u001b[0m\u001b[0;34m\u001b[0m\u001b[0;34m\u001b[0m\u001b[0m\n\u001b[1;32m    639\u001b[0m \u001b[0;34m\u001b[0m\u001b[0m\n",
            "\u001b[0;32m/usr/local/lib/python3.10/dist-packages/IPython/core/display.py\u001b[0m in \u001b[0;36mreload\u001b[0;34m(self)\u001b[0m\n\u001b[1;32m   1261\u001b[0m         \u001b[0;34m\"\"\"Reload the raw data from file or URL.\"\"\"\u001b[0m\u001b[0;34m\u001b[0m\u001b[0;34m\u001b[0m\u001b[0m\n\u001b[1;32m   1262\u001b[0m         \u001b[0;32mif\u001b[0m \u001b[0mself\u001b[0m\u001b[0;34m.\u001b[0m\u001b[0membed\u001b[0m\u001b[0;34m:\u001b[0m\u001b[0;34m\u001b[0m\u001b[0;34m\u001b[0m\u001b[0m\n\u001b[0;32m-> 1263\u001b[0;31m             \u001b[0msuper\u001b[0m\u001b[0;34m(\u001b[0m\u001b[0mImage\u001b[0m\u001b[0;34m,\u001b[0m\u001b[0mself\u001b[0m\u001b[0;34m)\u001b[0m\u001b[0;34m.\u001b[0m\u001b[0mreload\u001b[0m\u001b[0;34m(\u001b[0m\u001b[0;34m)\u001b[0m\u001b[0;34m\u001b[0m\u001b[0;34m\u001b[0m\u001b[0m\n\u001b[0m\u001b[1;32m   1264\u001b[0m             \u001b[0;32mif\u001b[0m \u001b[0mself\u001b[0m\u001b[0;34m.\u001b[0m\u001b[0mretina\u001b[0m\u001b[0;34m:\u001b[0m\u001b[0;34m\u001b[0m\u001b[0;34m\u001b[0m\u001b[0m\n\u001b[1;32m   1265\u001b[0m                 \u001b[0mself\u001b[0m\u001b[0;34m.\u001b[0m\u001b[0m_retina_shape\u001b[0m\u001b[0;34m(\u001b[0m\u001b[0;34m)\u001b[0m\u001b[0;34m\u001b[0m\u001b[0;34m\u001b[0m\u001b[0m\n",
            "\u001b[0;32m/usr/local/lib/python3.10/dist-packages/IPython/core/display.py\u001b[0m in \u001b[0;36mreload\u001b[0;34m(self)\u001b[0m\n\u001b[1;32m    660\u001b[0m         \u001b[0;34m\"\"\"Reload the raw data from file or URL.\"\"\"\u001b[0m\u001b[0;34m\u001b[0m\u001b[0;34m\u001b[0m\u001b[0m\n\u001b[1;32m    661\u001b[0m         \u001b[0;32mif\u001b[0m \u001b[0mself\u001b[0m\u001b[0;34m.\u001b[0m\u001b[0mfilename\u001b[0m \u001b[0;32mis\u001b[0m \u001b[0;32mnot\u001b[0m \u001b[0;32mNone\u001b[0m\u001b[0;34m:\u001b[0m\u001b[0;34m\u001b[0m\u001b[0;34m\u001b[0m\u001b[0m\n\u001b[0;32m--> 662\u001b[0;31m             \u001b[0;32mwith\u001b[0m \u001b[0mopen\u001b[0m\u001b[0;34m(\u001b[0m\u001b[0mself\u001b[0m\u001b[0;34m.\u001b[0m\u001b[0mfilename\u001b[0m\u001b[0;34m,\u001b[0m \u001b[0mself\u001b[0m\u001b[0;34m.\u001b[0m\u001b[0m_read_flags\u001b[0m\u001b[0;34m)\u001b[0m \u001b[0;32mas\u001b[0m \u001b[0mf\u001b[0m\u001b[0;34m:\u001b[0m\u001b[0;34m\u001b[0m\u001b[0;34m\u001b[0m\u001b[0m\n\u001b[0m\u001b[1;32m    663\u001b[0m                 \u001b[0mself\u001b[0m\u001b[0;34m.\u001b[0m\u001b[0mdata\u001b[0m \u001b[0;34m=\u001b[0m \u001b[0mf\u001b[0m\u001b[0;34m.\u001b[0m\u001b[0mread\u001b[0m\u001b[0;34m(\u001b[0m\u001b[0;34m)\u001b[0m\u001b[0;34m\u001b[0m\u001b[0;34m\u001b[0m\u001b[0m\n\u001b[1;32m    664\u001b[0m         \u001b[0;32melif\u001b[0m \u001b[0mself\u001b[0m\u001b[0;34m.\u001b[0m\u001b[0murl\u001b[0m \u001b[0;32mis\u001b[0m \u001b[0;32mnot\u001b[0m \u001b[0;32mNone\u001b[0m\u001b[0;34m:\u001b[0m\u001b[0;34m\u001b[0m\u001b[0;34m\u001b[0m\u001b[0m\n",
            "\u001b[0;31mFileNotFoundError\u001b[0m: [Errno 2] No such file or directory: 'figures/11_01.png'"
          ]
        }
      ],
      "source": [
        "Image(filename='figures/11_01.png', width=600) "
      ]
    },
    {
      "cell_type": "markdown",
      "metadata": {
        "id": "ZcgY9Fx-1vix"
      },
      "source": [
        "<br>\n",
        "<br>"
      ]
    },
    {
      "cell_type": "markdown",
      "metadata": {
        "id": "QXPcMV7I1viy"
      },
      "source": [
        "## Introducing the multi-layer neural network architecture"
      ]
    },
    {
      "cell_type": "code",
      "execution_count": null,
      "metadata": {
        "id": "Q6pQcd911viy"
      },
      "outputs": [],
      "source": [
        "Image(filename='figures/11_02.png', width=600) "
      ]
    },
    {
      "cell_type": "code",
      "execution_count": null,
      "metadata": {
        "id": "DgYTYBwZ1viy"
      },
      "outputs": [],
      "source": [
        "Image(filename='figures/11_03.png', width=500) "
      ]
    },
    {
      "cell_type": "markdown",
      "metadata": {
        "id": "MwMMMwJI1viy"
      },
      "source": [
        "<br>\n",
        "<br>"
      ]
    },
    {
      "cell_type": "markdown",
      "metadata": {
        "id": "lBIEM8zi1viy"
      },
      "source": [
        "## Activating a neural network via forward propagation"
      ]
    },
    {
      "cell_type": "markdown",
      "metadata": {
        "id": "oUiXnlGa1viz"
      },
      "source": [
        "<br>\n",
        "<br>"
      ]
    },
    {
      "cell_type": "markdown",
      "metadata": {
        "id": "pDXupku_1viz"
      },
      "source": [
        "# Classifying handwritten digits"
      ]
    },
    {
      "cell_type": "markdown",
      "metadata": {
        "id": "SnQNLh0v1viz"
      },
      "source": [
        "..."
      ]
    },
    {
      "cell_type": "markdown",
      "metadata": {
        "id": "whO7BF2_1viz"
      },
      "source": [
        "## Obtaining and preparing the MNIST dataset"
      ]
    },
    {
      "cell_type": "markdown",
      "metadata": {
        "id": "9q7ZqLD61viz"
      },
      "source": [
        "The MNIST dataset is publicly available at http://yann.lecun.com/exdb/mnist/ and consists of the following four parts:\n",
        "\n",
        "- Training set images: train-images-idx3-ubyte.gz (9.9 MB, 47 MB unzipped, 60,000 examples)\n",
        "- Training set labels: train-labels-idx1-ubyte.gz (29 KB, 60 KB unzipped, 60,000 labels)\n",
        "- Test set images: t10k-images-idx3-ubyte.gz (1.6 MB, 7.8 MB, 10,000 examples)\n",
        "- Test set labels: t10k-labels-idx1-ubyte.gz (5 KB, 10 KB unzipped, 10,000 labels)\n",
        "\n"
      ]
    },
    {
      "cell_type": "code",
      "execution_count": 2,
      "metadata": {
        "colab": {
          "base_uri": "https://localhost:8080/"
        },
        "id": "nAaACgob1viz",
        "outputId": "a3833730-458a-4c5a-d526-3c26d556a72d"
      },
      "outputs": [
        {
          "output_type": "stream",
          "name": "stderr",
          "text": [
            "/usr/local/lib/python3.10/dist-packages/sklearn/datasets/_openml.py:968: FutureWarning: The default value of `parser` will change from `'liac-arff'` to `'auto'` in 1.4. You can set `parser='auto'` to silence this warning. Therefore, an `ImportError` will be raised from 1.4 if the dataset is dense and pandas is not installed. Note that the pandas parser may return different data types. See the Notes Section in fetch_openml's API doc for details.\n",
            "  warn(\n"
          ]
        },
        {
          "output_type": "stream",
          "name": "stdout",
          "text": [
            "(70000, 784)\n",
            "(70000,)\n"
          ]
        }
      ],
      "source": [
        "from sklearn.datasets import fetch_openml\n",
        "\n",
        "\n",
        "X, y = fetch_openml('mnist_784', version=1, return_X_y=True)\n",
        "X = X.values\n",
        "y = y.astype(int).values\n",
        "\n",
        "print(X.shape)\n",
        "print(y.shape)"
      ]
    },
    {
      "cell_type": "markdown",
      "metadata": {
        "id": "nbRgoDAl1viz"
      },
      "source": [
        "Normalize to [-1, 1] range:"
      ]
    },
    {
      "cell_type": "code",
      "execution_count": 3,
      "metadata": {
        "id": "MFeet6vY1vi0"
      },
      "outputs": [],
      "source": [
        "X = ((X / 255.) - .5) * 2"
      ]
    },
    {
      "cell_type": "markdown",
      "metadata": {
        "id": "ACkUmWtG1vi0"
      },
      "source": [
        "Visualize the first digit of each class:"
      ]
    },
    {
      "cell_type": "code",
      "execution_count": 4,
      "metadata": {
        "colab": {
          "base_uri": "https://localhost:8080/",
          "height": 338
        },
        "id": "rOyJPez81vi0",
        "outputId": "5ba9199c-8fad-4d35-9b18-c5191d4ad1ba"
      },
      "outputs": [
        {
          "output_type": "display_data",
          "data": {
            "text/plain": [
              "<Figure size 640x480 with 10 Axes>"
            ],
            "image/png": "[encoded data removed]"
          },
          "metadata": {}
        }
      ],
      "source": [
        "import matplotlib.pyplot as plt\n",
        "\n",
        "fig, ax = plt.subplots(nrows=2, ncols=5, sharex=True, sharey=True)\n",
        "ax = ax.flatten()\n",
        "for i in range(10):\n",
        "    img = X[y == i][0].reshape(28, 28)\n",
        "    ax[i].imshow(img, cmap='Greys')\n",
        "\n",
        "ax[0].set_xticks([])\n",
        "ax[0].set_yticks([])\n",
        "plt.tight_layout()\n",
        "#plt.savefig('figures/11_4.png', dpi=300)\n",
        "plt.show()"
      ]
    },
    {
      "cell_type": "markdown",
      "metadata": {
        "id": "YJHn4_Cn1vi0"
      },
      "source": [
        "Visualize 25 different versions of \"7\":"
      ]
    },
    {
      "cell_type": "code",
      "execution_count": 5,
      "metadata": {
        "scrolled": true,
        "colab": {
          "base_uri": "https://localhost:8080/",
          "height": 486
        },
        "id": "Gh3jI8pU1vi0",
        "outputId": "457e48fe-3c4f-464a-dcb4-e9b74c61a4c4"
      },
      "outputs": [
        {
          "output_type": "display_data",
          "data": {
            "text/plain": [
              "<Figure size 640x480 with 25 Axes>"
            ],
            "image/png": "[encoded data removed]"
          },
          "metadata": {}
        }
      ],
      "source": [
        "fig, ax = plt.subplots(nrows=5, ncols=5, sharex=True, sharey=True)\n",
        "ax = ax.flatten()\n",
        "for i in range(25):\n",
        "    img = X[y == 7][i].reshape(28, 28)\n",
        "    ax[i].imshow(img, cmap='Greys')\n",
        "\n",
        "ax[0].set_xticks([])\n",
        "ax[0].set_yticks([])\n",
        "plt.tight_layout()\n",
        "# plt.savefig('figures/11_5.png', dpi=300)\n",
        "plt.show()"
      ]
    },
    {
      "cell_type": "markdown",
      "metadata": {
        "id": "-xFCfqGH1vi1"
      },
      "source": [
        "Split into training, validation, and test set:"
      ]
    },
    {
      "cell_type": "code",
      "execution_count": 6,
      "metadata": {
        "id": "_0aBrgf01vi1"
      },
      "outputs": [],
      "source": [
        "from sklearn.model_selection import train_test_split\n",
        "\n",
        "\n",
        "X_temp, X_test, y_temp, y_test = train_test_split(\n",
        "    X, y, test_size=10000, random_state=123, stratify=y)\n",
        "\n",
        "X_train, X_valid, y_train, y_valid = train_test_split(\n",
        "    X_temp, y_temp, test_size=5000, random_state=123, stratify=y_temp)\n",
        "\n",
        "\n",
        "# optional to free up some memory by deleting non-used arrays:\n",
        "del X_temp, y_temp, X, y"
      ]
    },
    {
      "cell_type": "markdown",
      "source": [
        "## Implementing a multi-layer perceptron\n"
      ],
      "metadata": {
        "id": "As0b-QKf2AVL"
      }
    },
    {
      "cell_type": "code",
      "source": [
        "import numpy as np\n",
        "\n",
        "class NeuralNetMLPSingle:\n",
        "    def __init__(self, n_hidden, l2, epochs, eta):\n",
        "        self.n_hidden = n_hidden\n",
        "        self.l2 = l2\n",
        "        self.epochs = epochs\n",
        "        self.eta = eta\n",
        "\n",
        "    def forward(self, X):\n",
        "        # Compute activations of hidden layer\n",
        "        z_h = np.dot(X, self.weight_h) + self.bias_h\n",
        "        a_h = self._sigmoid(z_h)\n",
        "\n",
        "        # Compute activations of output layer\n",
        "        z_out = np.dot(a_h, self.weight_out) + self.bias_out\n",
        "        a_out = self._softmax(z_out)\n",
        "\n",
        "        return a_h, a_out\n",
        "\n",
        "    def backward(self, X, a_h, a_out, y):\n",
        "        # Output layer gradients\n",
        "        grad_out = a_out - self._onehot_encoding(y)\n",
        "\n",
        "        # Hidden layer gradients\n",
        "        grad_h = np.dot(grad_out, self.weight_out.T) * self._sigmoid_derivative(a_h)\n",
        "\n",
        "        # Weight gradients\n",
        "        d_loss__d_w_out = np.dot(a_h.T, grad_out)\n",
        "        d_loss__d_b_out = np.sum(grad_out, axis=0)\n",
        "        d_loss__d_w_h = np.dot(X.T, grad_h)\n",
        "        d_loss__d_b_h = np.sum(grad_h, axis=0)\n",
        "\n",
        "        # Add L2 regularization to weight gradients\n",
        "        d_loss__d_w_out += self.l2 * self.weight_out\n",
        "        d_loss__d_w_h += self.l2 * self.weight_h\n",
        "\n",
        "        return d_loss__d_w_out, d_loss__d_b_out, d_loss__d_w_h, d_loss__d_b_h\n",
        "\n",
        "    def fit(self, X, y):\n",
        "        # Initialize weights and biases\n",
        "        self.weight_h = np.random.uniform(-1, 1, size=(X.shape[1], self.n_hidden))\n",
        "        self.bias_h = np.zeros(self.n_hidden)\n",
        "        self.weight_out = np.random.uniform(-1, 1, size=(self.n_hidden, np.unique(y).shape[0]))\n",
        "        self.bias_out = np.zeros(np.unique(y).shape[0])\n",
        "\n",
        "        # Convert class labels to integers if necessary\n",
        "        if y.dtype == object:\n",
        "            y = self._label_encoder(y)\n",
        "\n",
        "        # One-hot encode the target variable\n",
        "        y_enc = self._onehot_encoding(y)\n",
        "\n",
        "        # Iterate over epochs\n",
        "        for _ in range(self.epochs):\n",
        "            a_h, a_out = self.forward(X)\n",
        "            d_loss__d_w_out, d_loss__d_b_out, d_loss__d_w_h, d_loss__d_b_h = self.backward(X, a_h, a_out, y)\n",
        "\n",
        "            # Update weights and biases\n",
        "            self.weight_h -= self.eta * d_loss__d_w_h\n",
        "            self.bias_h -= self.eta * d_loss__d_b_h\n",
        "            self.weight_out -= self.eta * d_loss__d_w_out\n",
        "            self.bias_out -= self.eta * d_loss__d_b_out\n",
        "\n",
        "    def predict(self, X):\n",
        "        a_h, a_out = self.forward(X)\n",
        "        return np.argmax(a_out, axis=1)\n",
        "\n",
        "    def _sigmoid(self, z):\n",
        "        return 1.0 / (1.0 + np.exp(-np.clip(z, -250, 250)))\n",
        "\n",
        "    def _softmax(self, z):\n",
        "        exp_z = np.exp(z - np.max(z, axis=1, keepdims=True))\n",
        "        return exp_z / np.sum(exp_z, axis=1, keepdims=True)\n",
        "\n",
        "    def _sigmoid_derivative(self, a):\n",
        "        return a * (1 - a)\n",
        "\n",
        "    def _onehot_encoding(self, y):\n",
        "        return np.eye(np.unique(y).shape[0])[y]\n",
        "\n",
        "    def _label_encoder(self, y):\n",
        "        classes = np.unique(y)\n",
        "        mapping = {label: idx for idx, label in enumerate(classes)}\n",
        "        return np.array([mapping[label] for label in y])\n",
        "\n",
        "\n",
        "def train(model, X_train, y_train, X_valid, y_valid, num_epochs, learning_rate=0.1):\n",
        "    epoch_losses = []\n",
        "    epoch_train_acc = []\n",
        "    epoch_valid_acc = []\n",
        "\n",
        "    for epoch in range(num_epochs):\n",
        "        model.fit(X_train, y_train)\n",
        "\n",
        "        # Compute training loss and accuracy\n",
        "        train_loss, train_acc = compute_mse_and_acc(model, X_train, y_train)\n",
        "        epoch_losses.append(train_loss)\n",
        "        epoch_train_acc.append(train_acc)\n",
        "\n",
        "        # Compute validation accuracy\n",
        "        _, valid_acc = compute_mse_and_acc(model, X_valid, y_valid)\n",
        "        epoch_valid_acc.append(valid_acc)\n",
        "\n",
        "        print(f\"Epoch {epoch+1}/{num_epochs} | Train Loss: {train_loss:.2f} | Train Acc: {train_acc:.2f} | Valid Acc: {valid_acc:.2f}\")\n",
        "\n",
        "    return epoch_losses, epoch_train_acc, epoch_valid_acc\n",
        "\n",
        "\n",
        "def compute_mse_and_acc(model, X, y):\n",
        "    y_pred = model.predict(X)\n",
        "    mse = mse_loss(y, y_pred)\n",
        "    acc = accuracy(y, y_pred)\n",
        "    return mse, acc\n",
        "\n",
        "\n",
        "def mse_loss(targets, predicted_labels):\n",
        "    return np.mean((targets - predicted_labels) ** 2)\n",
        "\n",
        "\n",
        "def accuracy(targets, predicted_labels):\n",
        "    return np.mean(predicted_labels == targets)\n"
      ],
      "metadata": {
        "id": "Bq0Blhkz2Efk"
      },
      "execution_count": 7,
      "outputs": []
    },
    {
      "cell_type": "code",
      "source": [
        "# Train the model with single hidden layer\n",
        "num_epochs = 50\n",
        "learning_rate = 0.1\n",
        "\n",
        "model_single = NeuralNetMLPSingle(n_hidden=100, l2=0.1, epochs=num_epochs, eta=learning_rate)\n",
        "losses_single, train_acc_single, valid_acc_single = train(model_single, X_train, y_train, X_valid, y_valid, num_epochs, learning_rate)\n",
        "\n",
        "# Evaluate on the test set\n",
        "test_mse_single, test_acc_single = compute_mse_and_acc(model_single, X_test, y_test)\n",
        "\n",
        "print(f\"Single Hidden Layer Model:\")\n",
        "print(f\"Test Accuracy: {test_acc_single*100:.2f}%\")\n",
        "print(f'Initial valid MSE: {test_mse_single:.1f}')\n"
      ],
      "metadata": {
        "colab": {
          "base_uri": "https://localhost:8080/"
        },
        "id": "DhamtUeH2K5R",
        "outputId": "d77a5536-4162-432d-c01d-761fa795a0a8"
      },
      "execution_count": 8,
      "outputs": [
        {
          "output_type": "stream",
          "name": "stdout",
          "text": [
            "Epoch 1/50 | Train Loss: 20.27 | Train Acc: 0.11 | Valid Acc: 0.11\n",
            "Epoch 2/50 | Train Loss: 8.56 | Train Acc: 0.10 | Valid Acc: 0.10\n",
            "Epoch 3/50 | Train Loss: 20.27 | Train Acc: 0.11 | Valid Acc: 0.11\n",
            "Epoch 4/50 | Train Loss: 20.27 | Train Acc: 0.11 | Valid Acc: 0.11\n",
            "Epoch 5/50 | Train Loss: 20.27 | Train Acc: 0.11 | Valid Acc: 0.11\n",
            "Epoch 6/50 | Train Loss: 20.27 | Train Acc: 0.11 | Valid Acc: 0.11\n",
            "Epoch 7/50 | Train Loss: 20.94 | Train Acc: 0.10 | Valid Acc: 0.10\n",
            "Epoch 8/50 | Train Loss: 29.03 | Train Acc: 0.10 | Valid Acc: 0.10\n",
            "Epoch 9/50 | Train Loss: 14.37 | Train Acc: 0.10 | Valid Acc: 0.10\n",
            "Epoch 10/50 | Train Loss: 8.56 | Train Acc: 0.10 | Valid Acc: 0.10\n",
            "Epoch 11/50 | Train Loss: 20.94 | Train Acc: 0.10 | Valid Acc: 0.10\n",
            "Epoch 12/50 | Train Loss: 20.27 | Train Acc: 0.11 | Valid Acc: 0.11\n",
            "Epoch 13/50 | Train Loss: 10.75 | Train Acc: 0.10 | Valid Acc: 0.10\n",
            "Epoch 14/50 | Train Loss: 20.27 | Train Acc: 0.11 | Valid Acc: 0.11\n",
            "Epoch 15/50 | Train Loss: 20.27 | Train Acc: 0.11 | Valid Acc: 0.11\n",
            "Epoch 16/50 | Train Loss: 20.27 | Train Acc: 0.11 | Valid Acc: 0.11\n",
            "Epoch 17/50 | Train Loss: 14.37 | Train Acc: 0.10 | Valid Acc: 0.10\n",
            "Epoch 18/50 | Train Loss: 28.18 | Train Acc: 0.10 | Valid Acc: 0.10\n",
            "Epoch 19/50 | Train Loss: 8.65 | Train Acc: 0.09 | Valid Acc: 0.09\n",
            "Epoch 20/50 | Train Loss: 20.27 | Train Acc: 0.11 | Valid Acc: 0.11\n",
            "Epoch 21/50 | Train Loss: 29.03 | Train Acc: 0.10 | Valid Acc: 0.10\n",
            "Epoch 22/50 | Train Loss: 10.46 | Train Acc: 0.10 | Valid Acc: 0.10\n",
            "Epoch 23/50 | Train Loss: 29.03 | Train Acc: 0.10 | Valid Acc: 0.10\n",
            "Epoch 24/50 | Train Loss: 20.27 | Train Acc: 0.11 | Valid Acc: 0.11\n",
            "Epoch 25/50 | Train Loss: 8.65 | Train Acc: 0.09 | Valid Acc: 0.09\n",
            "Epoch 26/50 | Train Loss: 20.27 | Train Acc: 0.11 | Valid Acc: 0.11\n",
            "Epoch 27/50 | Train Loss: 20.27 | Train Acc: 0.11 | Valid Acc: 0.11\n",
            "Epoch 28/50 | Train Loss: 10.75 | Train Acc: 0.10 | Valid Acc: 0.10\n",
            "Epoch 29/50 | Train Loss: 8.56 | Train Acc: 0.10 | Valid Acc: 0.10\n",
            "Epoch 30/50 | Train Loss: 20.27 | Train Acc: 0.11 | Valid Acc: 0.11\n",
            "Epoch 31/50 | Train Loss: 8.56 | Train Acc: 0.10 | Valid Acc: 0.10\n",
            "Epoch 32/50 | Train Loss: 10.75 | Train Acc: 0.10 | Valid Acc: 0.10\n",
            "Epoch 33/50 | Train Loss: 10.75 | Train Acc: 0.10 | Valid Acc: 0.10\n",
            "Epoch 34/50 | Train Loss: 20.94 | Train Acc: 0.10 | Valid Acc: 0.10\n",
            "Epoch 35/50 | Train Loss: 20.27 | Train Acc: 0.11 | Valid Acc: 0.11\n",
            "Epoch 36/50 | Train Loss: 20.27 | Train Acc: 0.11 | Valid Acc: 0.11\n",
            "Epoch 37/50 | Train Loss: 8.65 | Train Acc: 0.09 | Valid Acc: 0.09\n",
            "Epoch 38/50 | Train Loss: 28.18 | Train Acc: 0.10 | Valid Acc: 0.10\n",
            "Epoch 39/50 | Train Loss: 10.75 | Train Acc: 0.10 | Valid Acc: 0.10\n",
            "Epoch 40/50 | Train Loss: 20.27 | Train Acc: 0.11 | Valid Acc: 0.11\n",
            "Epoch 41/50 | Train Loss: 8.65 | Train Acc: 0.09 | Valid Acc: 0.09\n",
            "Epoch 42/50 | Train Loss: 20.27 | Train Acc: 0.11 | Valid Acc: 0.11\n",
            "Epoch 43/50 | Train Loss: 10.75 | Train Acc: 0.10 | Valid Acc: 0.10\n",
            "Epoch 44/50 | Train Loss: 20.27 | Train Acc: 0.11 | Valid Acc: 0.11\n",
            "Epoch 45/50 | Train Loss: 20.27 | Train Acc: 0.11 | Valid Acc: 0.11\n",
            "Epoch 46/50 | Train Loss: 20.27 | Train Acc: 0.11 | Valid Acc: 0.11\n",
            "Epoch 47/50 | Train Loss: 10.75 | Train Acc: 0.10 | Valid Acc: 0.10\n",
            "Epoch 48/50 | Train Loss: 20.27 | Train Acc: 0.11 | Valid Acc: 0.11\n",
            "Epoch 49/50 | Train Loss: 8.56 | Train Acc: 0.10 | Valid Acc: 0.10\n",
            "Epoch 50/50 | Train Loss: 20.94 | Train Acc: 0.10 | Valid Acc: 0.10\n",
            "Single Hidden Layer Model:\n",
            "Test Accuracy: 9.75%\n"
          ]
        }
      ]
    },
    {
      "cell_type": "markdown",
      "metadata": {
        "id": "q49w1nF31vi1"
      },
      "source": [
        "## Implementing a multi-layer perceptron and multy hiden layer ANN\n",
        "\n",
        "\n"
      ]
    },
    {
      "cell_type": "code",
      "execution_count": 16,
      "metadata": {
        "id": "Nq8Cvv561vi1"
      },
      "outputs": [],
      "source": [
        "import numpy as np"
      ]
    },
    {
      "cell_type": "code",
      "execution_count": 27,
      "metadata": {
        "id": "RFx6Oy751vi1"
      },
      "outputs": [],
      "source": [
        "##########################\n",
        "### MODEL\n",
        "##########################\n",
        "\n",
        "def sigmoid(z):                                        \n",
        "    return 1. / (1. + np.exp(-z))\n",
        "\n",
        "\n",
        "def int_to_onehot(y, num_labels):\n",
        "\n",
        "    ary = np.zeros((y.shape[0], num_labels))\n",
        "    for i, val in enumerate(y):\n",
        "        ary[i, val] = 1\n",
        "\n",
        "    return ary\n",
        "\n",
        "\n",
        "class NeuralNetMLP:\n",
        "\n",
        "    def __init__(self, num_features, num_hidden1, num_hidden2, num_classes, random_seed=123):\n",
        "        super().__init__()\n",
        "        \n",
        "        self.num_classes = num_classes\n",
        "        \n",
        "        # hidden layers\n",
        "        rng = np.random.RandomState(random_seed)\n",
        "        \n",
        "        self.weight_h1 = rng.normal(loc=0.0, scale=0.1, size=(num_hidden1, num_features))\n",
        "        self.bias_h1 = np.zeros(num_hidden1)\n",
        "        \n",
        "        self.weight_h2 = rng.normal(loc=0.0, scale=0.1, size=(num_hidden2, num_hidden1))\n",
        "        self.bias_h2 = np.zeros(num_hidden2)\n",
        "        \n",
        "        # output layer\n",
        "        self.weight_out = rng.normal(loc=0.0, scale=0.1, size=(num_classes, num_hidden2))\n",
        "        self.bias_out = np.zeros(num_classes)\n",
        "        \n",
        "    def forward(self, x):\n",
        "        # Hidden layer 1\n",
        "        z_h1 = np.dot(x, self.weight_h1.T) + self.bias_h1\n",
        "        a_h1 = sigmoid(z_h1)\n",
        "\n",
        "        # Hidden layer 2\n",
        "        z_h2 = np.dot(a_h1, self.weight_h2.T) + self.bias_h2\n",
        "        a_h2 = sigmoid(z_h2)\n",
        "\n",
        "        # Output layer\n",
        "        z_out = np.dot(a_h2, self.weight_out.T) + self.bias_out\n",
        "        a_out = sigmoid(z_out)\n",
        "\n",
        "        return a_h1, a_h2, a_out\n",
        "\n",
        "    def backward(self, x, a_h1, a_h2, a_out, y):\n",
        "        # Output layer weights gradients\n",
        "        y_onehot = int_to_onehot(y, self.num_classes)\n",
        "        d_loss__d_a_out = 2. * (a_out - y_onehot) / y.shape[0]\n",
        "        d_a_out__d_z_out = a_out * (1. - a_out)\n",
        "        delta_out = d_loss__d_a_out * d_a_out__d_z_out\n",
        "\n",
        "        d_z_out__dw_out = a_h2\n",
        "        d_loss__dw_out = np.dot(delta_out.T, d_z_out__dw_out)\n",
        "        d_loss__db_out = np.sum(delta_out, axis=0)\n",
        "\n",
        "        # Hidden layer 2 weights gradients\n",
        "        d_z_out__a_h2 = self.weight_out\n",
        "        d_loss__a_h2 = np.dot(delta_out, d_z_out__a_h2)\n",
        "        d_a_h2__d_z_h2 = a_h2 * (1. - a_h2)\n",
        "        d_z_h2__dw_h2 = a_h1\n",
        "        d_loss__dw_h2 = np.dot((d_loss__a_h2 * d_a_h2__d_z_h2).T, d_z_h2__dw_h2)\n",
        "        d_loss__db_h2 = np.sum(d_loss__a_h2 * d_a_h2__d_z_h2, axis=0)\n",
        "\n",
        "        # Hidden layer 1 weights gradients\n",
        "        d_z_h2__a_h1 = self.weight_h2\n",
        "        d_loss__a_h1 = np.dot(d_loss__a_h2 * d_a_h2__d_z_h2, d_z_h2__a_h1)\n",
        "        d_a_h1__d_z_h1 = a_h1 * (1. - a_h1)\n",
        "        d_z_h1__dw_h1 = x\n",
        "        d_loss__dw_h1 = np.dot((d_loss__a_h1 * d_a_h1__d_z_h1).T, d_z_h1__dw_h1)\n",
        "        d_loss__db_h1 = np.sum(d_loss__a_h1 * d_a_h1__d_z_h1, axis=0)\n",
        "\n",
        "        return (d_loss__dw_out, d_loss__db_out,\n",
        "                d_loss__dw_h2, d_loss__db_h2,\n",
        "                d_loss__dw_h1, d_loss__db_h1)\n",
        "        #################################        \n",
        "        # Part 2: dLoss/dHiddenWeights\n",
        "        ## = DeltaOut * dOutNet/dHiddenAct * dHiddenAct/dHiddenNet * dHiddenNet/dWeight\n",
        "        \n",
        "        # [n_classes, n_hidden]\n",
        "        d_z_out__a_h = self.weight_out\n",
        "        \n",
        "        # output dim: [n_examples, n_hidden]\n",
        "        d_loss__a_h = np.dot(delta_out, d_z_out__a_h)\n",
        "        \n",
        "        # [n_examples, n_hidden]\n",
        "        d_a_h__d_z_h = a_h * (1. - a_h) # sigmoid derivative\n",
        "        \n",
        "        # [n_examples, n_features]\n",
        "        d_z_h__d_w_h = x\n",
        "        \n",
        "        # output dim: [n_hidden, n_features]\n",
        "        d_loss__d_w_h = np.dot((d_loss__a_h * d_a_h__d_z_h).T, d_z_h__d_w_h)\n",
        "        d_loss__d_b_h = np.sum((d_loss__a_h * d_a_h__d_z_h), axis=0)\n",
        "\n",
        "        return (d_loss__dw_out, d_loss__db_out, \n",
        "                d_loss__d_w_h, d_loss__d_b_h)"
      ]
    },
    {
      "cell_type": "code",
      "execution_count": 28,
      "metadata": {
        "id": "1dx9dNET1vi9"
      },
      "outputs": [],
      "source": [
        "\n",
        "# Define the model with two hidden layers\n",
        "model = NeuralNetMLP(num_features=28*28, num_hidden1=50, num_hidden2=50, num_classes=10)\n"
      ]
    },
    {
      "cell_type": "markdown",
      "source": [
        "## fully connected ANN implemented using Keras"
      ],
      "metadata": {
        "id": "zvOTJJpcz_-D"
      }
    },
    {
      "cell_type": "code",
      "source": [
        "import keras\n",
        "from keras.models import Sequential\n",
        "from keras.layers import Dense\n",
        "from keras.utils import to_categorical\n",
        "\n",
        "# Convert target labels to categorical format\n",
        "y_train_categorical = to_categorical(y_train)\n",
        "y_valid_categorical = to_categorical(y_valid)\n",
        "\n",
        "# Define the model architecture\n",
        "model_keras = Sequential()\n",
        "model_keras.add(Dense(units=100, activation='relu', input_dim=X_train.shape[1]))\n",
        "model_keras.add(Dense(units=10, activation='softmax'))\n",
        "\n",
        "# Compile the model\n",
        "model_keras.compile(loss='categorical_crossentropy', optimizer='adam', metrics=['accuracy'])\n",
        "\n",
        "# Train the model\n",
        "history = model_keras.fit(X_train, y_train_categorical, epochs=num_epochs, batch_size=minibatch_size, validation_data=(X_valid, y_valid_categorical))\n",
        "\n",
        "# Evaluate on the test set\n",
        "y_test_categorical = to_categorical(y_test)\n",
        "test_loss_keras, test_acc_keras = model_keras.evaluate(X_test, y_test_categorical, verbose=0)\n",
        "\n",
        "print(f\"Keras Fully Connected ANN:\")\n",
        "print(f\"Test Accuracy: {test_acc_keras*100:.2f}%\")\n"
      ],
      "metadata": {
        "colab": {
          "base_uri": "https://localhost:8080/"
        },
        "id": "MrQc4NIO0XCU",
        "outputId": "bc23a47b-7db0-4d2e-ef65-0741a1210ce8"
      },
      "execution_count": 56,
      "outputs": [
        {
          "output_type": "stream",
          "name": "stdout",
          "text": [
            "Epoch 1/50\n",
            "550/550 [==============================] - 4s 6ms/step - loss: 0.3845 - accuracy: 0.8826 - val_loss: 0.2461 - val_accuracy: 0.9300\n",
            "Epoch 2/50\n",
            "550/550 [==============================] - 4s 7ms/step - loss: 0.2001 - accuracy: 0.9408 - val_loss: 0.1793 - val_accuracy: 0.9508\n",
            "Epoch 3/50\n",
            "550/550 [==============================] - 2s 4ms/step - loss: 0.1519 - accuracy: 0.9543 - val_loss: 0.1495 - val_accuracy: 0.9584\n",
            "Epoch 4/50\n",
            "550/550 [==============================] - 2s 4ms/step - loss: 0.1252 - accuracy: 0.9622 - val_loss: 0.1480 - val_accuracy: 0.9572\n",
            "Epoch 5/50\n",
            "550/550 [==============================] - 2s 4ms/step - loss: 0.1027 - accuracy: 0.9696 - val_loss: 0.1451 - val_accuracy: 0.9600\n",
            "Epoch 6/50\n",
            "550/550 [==============================] - 3s 5ms/step - loss: 0.0913 - accuracy: 0.9720 - val_loss: 0.1228 - val_accuracy: 0.9648\n",
            "Epoch 7/50\n",
            "550/550 [==============================] - 2s 4ms/step - loss: 0.0833 - accuracy: 0.9741 - val_loss: 0.1206 - val_accuracy: 0.9658\n",
            "Epoch 8/50\n",
            "550/550 [==============================] - 2s 4ms/step - loss: 0.0746 - accuracy: 0.9766 - val_loss: 0.1191 - val_accuracy: 0.9676\n",
            "Epoch 9/50\n",
            "550/550 [==============================] - 2s 4ms/step - loss: 0.0665 - accuracy: 0.9795 - val_loss: 0.1158 - val_accuracy: 0.9704\n",
            "Epoch 10/50\n",
            "550/550 [==============================] - 2s 4ms/step - loss: 0.0602 - accuracy: 0.9813 - val_loss: 0.1149 - val_accuracy: 0.9674\n",
            "Epoch 11/50\n",
            "550/550 [==============================] - 2s 4ms/step - loss: 0.0570 - accuracy: 0.9820 - val_loss: 0.1227 - val_accuracy: 0.9652\n",
            "Epoch 12/50\n",
            "550/550 [==============================] - 3s 5ms/step - loss: 0.0529 - accuracy: 0.9824 - val_loss: 0.1052 - val_accuracy: 0.9726\n",
            "Epoch 13/50\n",
            "550/550 [==============================] - 2s 4ms/step - loss: 0.0493 - accuracy: 0.9843 - val_loss: 0.1305 - val_accuracy: 0.9634\n",
            "Epoch 14/50\n",
            "550/550 [==============================] - 2s 4ms/step - loss: 0.0452 - accuracy: 0.9853 - val_loss: 0.1292 - val_accuracy: 0.9670\n",
            "Epoch 15/50\n",
            "550/550 [==============================] - 2s 4ms/step - loss: 0.0454 - accuracy: 0.9847 - val_loss: 0.1195 - val_accuracy: 0.9678\n",
            "Epoch 16/50\n",
            "550/550 [==============================] - 2s 4ms/step - loss: 0.0395 - accuracy: 0.9867 - val_loss: 0.1183 - val_accuracy: 0.9706\n",
            "Epoch 17/50\n",
            "550/550 [==============================] - 3s 5ms/step - loss: 0.0390 - accuracy: 0.9869 - val_loss: 0.1291 - val_accuracy: 0.9680\n",
            "Epoch 18/50\n",
            "550/550 [==============================] - 3s 5ms/step - loss: 0.0347 - accuracy: 0.9884 - val_loss: 0.1265 - val_accuracy: 0.9704\n",
            "Epoch 19/50\n",
            "550/550 [==============================] - 2s 4ms/step - loss: 0.0329 - accuracy: 0.9887 - val_loss: 0.1381 - val_accuracy: 0.9668\n",
            "Epoch 20/50\n",
            "550/550 [==============================] - 2s 4ms/step - loss: 0.0327 - accuracy: 0.9888 - val_loss: 0.1277 - val_accuracy: 0.9672\n",
            "Epoch 21/50\n",
            "550/550 [==============================] - 2s 4ms/step - loss: 0.0295 - accuracy: 0.9901 - val_loss: 0.1338 - val_accuracy: 0.9680\n",
            "Epoch 22/50\n",
            "550/550 [==============================] - 2s 4ms/step - loss: 0.0285 - accuracy: 0.9901 - val_loss: 0.1192 - val_accuracy: 0.9718\n",
            "Epoch 23/50\n",
            "550/550 [==============================] - 3s 5ms/step - loss: 0.0293 - accuracy: 0.9899 - val_loss: 0.1290 - val_accuracy: 0.9702\n",
            "Epoch 24/50\n",
            "550/550 [==============================] - 2s 4ms/step - loss: 0.0245 - accuracy: 0.9911 - val_loss: 0.1225 - val_accuracy: 0.9718\n",
            "Epoch 25/50\n",
            "550/550 [==============================] - 2s 4ms/step - loss: 0.0269 - accuracy: 0.9910 - val_loss: 0.1289 - val_accuracy: 0.9712\n",
            "Epoch 26/50\n",
            "550/550 [==============================] - 2s 4ms/step - loss: 0.0190 - accuracy: 0.9933 - val_loss: 0.1432 - val_accuracy: 0.9662\n",
            "Epoch 27/50\n",
            "550/550 [==============================] - 2s 4ms/step - loss: 0.0232 - accuracy: 0.9919 - val_loss: 0.1878 - val_accuracy: 0.9620\n",
            "Epoch 28/50\n",
            "550/550 [==============================] - 3s 6ms/step - loss: 0.0213 - accuracy: 0.9925 - val_loss: 0.1391 - val_accuracy: 0.9702\n",
            "Epoch 29/50\n",
            "550/550 [==============================] - 2s 4ms/step - loss: 0.0180 - accuracy: 0.9934 - val_loss: 0.1330 - val_accuracy: 0.9718\n",
            "Epoch 30/50\n",
            "550/550 [==============================] - 2s 4ms/step - loss: 0.0202 - accuracy: 0.9931 - val_loss: 0.1368 - val_accuracy: 0.9732\n",
            "Epoch 31/50\n",
            "550/550 [==============================] - 2s 4ms/step - loss: 0.0200 - accuracy: 0.9931 - val_loss: 0.1654 - val_accuracy: 0.9666\n",
            "Epoch 32/50\n",
            "550/550 [==============================] - 3s 5ms/step - loss: 0.0192 - accuracy: 0.9933 - val_loss: 0.1591 - val_accuracy: 0.9708\n",
            "Epoch 33/50\n",
            "550/550 [==============================] - 3s 5ms/step - loss: 0.0156 - accuracy: 0.9947 - val_loss: 0.1315 - val_accuracy: 0.9742\n",
            "Epoch 34/50\n",
            "550/550 [==============================] - 3s 5ms/step - loss: 0.0185 - accuracy: 0.9937 - val_loss: 0.1543 - val_accuracy: 0.9696\n",
            "Epoch 35/50\n",
            "550/550 [==============================] - 2s 4ms/step - loss: 0.0153 - accuracy: 0.9944 - val_loss: 0.1727 - val_accuracy: 0.9668\n",
            "Epoch 36/50\n",
            "550/550 [==============================] - 2s 4ms/step - loss: 0.0185 - accuracy: 0.9932 - val_loss: 0.1514 - val_accuracy: 0.9706\n",
            "Epoch 37/50\n",
            "550/550 [==============================] - 2s 4ms/step - loss: 0.0103 - accuracy: 0.9965 - val_loss: 0.1419 - val_accuracy: 0.9728\n",
            "Epoch 38/50\n",
            "550/550 [==============================] - 2s 4ms/step - loss: 0.0193 - accuracy: 0.9931 - val_loss: 0.1556 - val_accuracy: 0.9718\n",
            "Epoch 39/50\n",
            "550/550 [==============================] - 3s 5ms/step - loss: 0.0155 - accuracy: 0.9943 - val_loss: 0.1632 - val_accuracy: 0.9704\n",
            "Epoch 40/50\n",
            "550/550 [==============================] - 2s 4ms/step - loss: 0.0133 - accuracy: 0.9951 - val_loss: 0.1821 - val_accuracy: 0.9692\n",
            "Epoch 41/50\n",
            "550/550 [==============================] - 2s 4ms/step - loss: 0.0132 - accuracy: 0.9953 - val_loss: 0.1618 - val_accuracy: 0.9716\n",
            "Epoch 42/50\n",
            "550/550 [==============================] - 2s 4ms/step - loss: 0.0127 - accuracy: 0.9954 - val_loss: 0.1601 - val_accuracy: 0.9724\n",
            "Epoch 43/50\n",
            "550/550 [==============================] - 2s 4ms/step - loss: 0.0125 - accuracy: 0.9957 - val_loss: 0.1641 - val_accuracy: 0.9722\n",
            "Epoch 44/50\n",
            "550/550 [==============================] - 3s 5ms/step - loss: 0.0107 - accuracy: 0.9962 - val_loss: 0.1853 - val_accuracy: 0.9708\n",
            "Epoch 45/50\n",
            "550/550 [==============================] - 2s 4ms/step - loss: 0.0192 - accuracy: 0.9933 - val_loss: 0.1768 - val_accuracy: 0.9690\n",
            "Epoch 46/50\n",
            "550/550 [==============================] - 2s 4ms/step - loss: 0.0127 - accuracy: 0.9959 - val_loss: 0.1981 - val_accuracy: 0.9678\n",
            "Epoch 47/50\n",
            "550/550 [==============================] - 2s 4ms/step - loss: 0.0107 - accuracy: 0.9961 - val_loss: 0.1745 - val_accuracy: 0.9726\n",
            "Epoch 48/50\n",
            "550/550 [==============================] - 2s 4ms/step - loss: 0.0104 - accuracy: 0.9963 - val_loss: 0.1670 - val_accuracy: 0.9736\n",
            "Epoch 49/50\n",
            "550/550 [==============================] - 2s 4ms/step - loss: 0.0090 - accuracy: 0.9969 - val_loss: 0.1800 - val_accuracy: 0.9724\n",
            "Epoch 50/50\n",
            "550/550 [==============================] - 3s 6ms/step - loss: 0.0119 - accuracy: 0.9954 - val_loss: 0.1834 - val_accuracy: 0.9702\n",
            "Keras Fully Connected ANN:\n",
            "Test Accuracy: 97.32%\n"
          ]
        }
      ]
    },
    {
      "cell_type": "markdown",
      "metadata": {
        "id": "zKdarrlw1vi-"
      },
      "source": [
        "## Coding the neural network training loop\n",
        "\n",
        "\n"
      ]
    },
    {
      "cell_type": "markdown",
      "metadata": {
        "id": "F1BgtJ3-1vi-"
      },
      "source": [
        "Defining data loaders:"
      ]
    },
    {
      "cell_type": "code",
      "execution_count": 29,
      "metadata": {
        "colab": {
          "base_uri": "https://localhost:8080/"
        },
        "id": "oFChpAZP1vi-",
        "outputId": "27af9b46-caa4-4175-8412-3b5cdfef104a"
      },
      "outputs": [
        {
          "output_type": "stream",
          "name": "stdout",
          "text": [
            "(100, 784)\n",
            "(100,)\n"
          ]
        }
      ],
      "source": [
        "import numpy as np\n",
        "\n",
        "num_epochs = 50\n",
        "minibatch_size = 100\n",
        "\n",
        "\n",
        "def minibatch_generator(X, y, minibatch_size):\n",
        "    indices = np.arange(X.shape[0])\n",
        "    np.random.shuffle(indices)\n",
        "\n",
        "    for start_idx in range(0, indices.shape[0] - minibatch_size \n",
        "                           + 1, minibatch_size):\n",
        "        batch_idx = indices[start_idx:start_idx + minibatch_size]\n",
        "        \n",
        "        yield X[batch_idx], y[batch_idx]\n",
        "\n",
        "        \n",
        "# iterate over training epochs\n",
        "for i in range(num_epochs):\n",
        "\n",
        "    # iterate over minibatches\n",
        "    minibatch_gen = minibatch_generator(\n",
        "        X_train, y_train, minibatch_size)\n",
        "    \n",
        "    for X_train_mini, y_train_mini in minibatch_gen:\n",
        "\n",
        "        break\n",
        "        \n",
        "    break\n",
        "    \n",
        "print(X_train_mini.shape)\n",
        "print(y_train_mini.shape)"
      ]
    },
    {
      "cell_type": "markdown",
      "metadata": {
        "id": "ZMHTa_Sr1vi_"
      },
      "source": [
        "Defining a function to compute the loss and accuracy"
      ]
    },
    {
      "cell_type": "code",
      "execution_count": 31,
      "metadata": {
        "colab": {
          "base_uri": "https://localhost:8080/"
        },
        "id": "VzCHNLvJ1vi_",
        "outputId": "a40ac61d-41ba-42b2-b838-d89cf5cf6882"
      },
      "outputs": [
        {
          "output_type": "stream",
          "name": "stdout",
          "text": [
            "Initial validation MSE: 0.2\n",
            "Initial validation accuracy: 9.0%\n"
          ]
        }
      ],
      "source": [
        "def mse_loss(targets, probas, num_labels=10):\n",
        "    onehot_targets = int_to_onehot(targets, num_labels=num_labels)\n",
        "    return np.mean((onehot_targets - probas)**2)\n",
        "\n",
        "\n",
        "def accuracy(targets, predicted_labels):\n",
        "    return np.mean(predicted_labels == targets) \n",
        "\n",
        "\n",
        "a_h1, a_h2, a_out = model.forward(X_valid)\n",
        "mse = mse_loss(y_valid, a_out)\n",
        "\n",
        "predicted_labels = np.argmax(a_out, axis=1)\n",
        "acc = accuracy(y_valid, predicted_labels)\n",
        "\n",
        "print(f'Initial validation MSE: {mse:.1f}')\n",
        "print(f'Initial validation accuracy: {acc*100:.1f}%')"
      ]
    },
    {
      "cell_type": "code",
      "execution_count": 36,
      "metadata": {
        "id": "EYDXz4jW1vjA"
      },
      "outputs": [],
      "source": [
        "def compute_mse_and_acc(nnet, X, y, num_labels=10, minibatch_size=100):\n",
        "    mse, correct_pred, num_examples = 0., 0, 0\n",
        "    minibatch_gen = minibatch_generator(X, y, minibatch_size)\n",
        "        \n",
        "    for i, (features, targets) in enumerate(minibatch_gen):\n",
        "\n",
        "        a_h1, a_h2, a_out = nnet.forward(features)\n",
        "        predicted_labels = np.argmax(a_out, axis=1)\n",
        "        \n",
        "        onehot_targets = int_to_onehot(targets, num_labels=num_labels)\n",
        "        loss = np.mean((onehot_targets - a_out)**2)\n",
        "        correct_pred += (predicted_labels == targets).sum()\n",
        "        \n",
        "        num_examples += targets.shape[0]\n",
        "        mse += loss\n",
        "\n",
        "    mse = mse/i\n",
        "    acc = correct_pred/num_examples\n",
        "    return mse, acc"
      ]
    },
    {
      "cell_type": "code",
      "execution_count": 37,
      "metadata": {
        "colab": {
          "base_uri": "https://localhost:8080/"
        },
        "id": "heCXBILq1vjA",
        "outputId": "6b5099b4-b209-4697-9dbf-94f3975d9cea"
      },
      "outputs": [
        {
          "output_type": "stream",
          "name": "stdout",
          "text": [
            "Initial valid MSE: 0.3\n",
            "Initial valid accuracy: 9.0%\n"
          ]
        }
      ],
      "source": [
        "mse, acc = compute_mse_and_acc(model, X_valid, y_valid)\n",
        "print(f'Initial valid MSE: {mse:.1f}')\n",
        "print(f'Initial valid accuracy: {acc*100:.1f}%')"
      ]
    },
    {
      "cell_type": "code",
      "execution_count": 46,
      "metadata": {
        "id": "GezBlrAg1vjA"
      },
      "outputs": [],
      "source": [
        "def train(model, X_train, y_train, X_valid, y_valid, num_epochs,\n",
        "          learning_rate=0.1):\n",
        "    \n",
        "    epoch_loss = []\n",
        "    epoch_train_acc = []\n",
        "    epoch_valid_acc = []\n",
        "    \n",
        "    for e in range(num_epochs):\n",
        "\n",
        "        # iterate over minibatches\n",
        "        minibatch_gen = minibatch_generator(\n",
        "            X_train, y_train, minibatch_size)\n",
        "\n",
        "        for X_train_mini, y_train_mini in minibatch_gen:\n",
        "            \n",
        "            #### Compute outputs ####\n",
        "            a_h1, a_h2, a_out = model.forward(X_train_mini)\n",
        "\n",
        "            #### Compute gradients ####\n",
        "            d_loss__d_w_out, d_loss__d_b_out, d_loss__d_w_h2, d_loss__d_b_h2, d_loss__d_w_h1, d_loss__d_b_h1 = \\\n",
        "                model.backward(X_train_mini, a_h1, a_h2, a_out, y_train_mini)\n",
        "\n",
        "            #### Update weights ####\n",
        "            model.weight_h1 -= learning_rate * d_loss__d_w_h1\n",
        "            model.bias_h1 -= learning_rate * d_loss__d_b_h1\n",
        "            model.weight_h2 -= learning_rate * d_loss__d_w_h2\n",
        "            model.bias_h2 -= learning_rate * d_loss__d_b_h2\n",
        "            model.weight_out -= learning_rate * d_loss__d_w_out\n",
        "            model.bias_out -= learning_rate * d_loss__d_b_out\n",
        "        \n",
        "        #### Epoch Logging ####        \n",
        "        train_mse, train_acc = compute_mse_and_acc(model, X_train, y_train)\n",
        "        valid_mse, valid_acc = compute_mse_and_acc(model, X_valid, y_valid)\n",
        "        train_acc, valid_acc = train_acc*100, valid_acc*100\n",
        "        epoch_train_acc.append(train_acc)\n",
        "        epoch_valid_acc.append(valid_acc)\n",
        "        epoch_loss.append(train_mse)\n",
        "        print(f'Epoch: {e+1:03d}/{num_epochs:03d} '\n",
        "              f'| Train MSE: {train_mse:.2f} '\n",
        "              f'| Train Acc: {train_acc:.2f}% '\n",
        "              f'| Valid Acc: {valid_acc:.2f}%')\n",
        "\n",
        "    return epoch_loss, epoch_train_acc, epoch_valid_acc\n"
      ]
    },
    {
      "cell_type": "code",
      "execution_count": 47,
      "metadata": {
        "colab": {
          "base_uri": "https://localhost:8080/"
        },
        "id": "QU8Nw2Nj1vjB",
        "outputId": "f2fde93e-76c0-4e82-fd44-f73dd2bd01db"
      },
      "outputs": [
        {
          "output_type": "stream",
          "name": "stdout",
          "text": [
            "Epoch: 001/050 | Train MSE: 0.09 | Train Acc: 18.53% | Valid Acc: 18.50%\n",
            "Epoch: 002/050 | Train MSE: 0.09 | Train Acc: 28.39% | Valid Acc: 28.42%\n",
            "Epoch: 003/050 | Train MSE: 0.07 | Train Acc: 43.50% | Valid Acc: 43.94%\n",
            "Epoch: 004/050 | Train MSE: 0.06 | Train Acc: 63.36% | Valid Acc: 63.78%\n",
            "Epoch: 005/050 | Train MSE: 0.05 | Train Acc: 72.16% | Valid Acc: 71.82%\n",
            "Epoch: 006/050 | Train MSE: 0.04 | Train Acc: 83.30% | Valid Acc: 83.30%\n",
            "Epoch: 007/050 | Train MSE: 0.03 | Train Acc: 86.24% | Valid Acc: 86.02%\n",
            "Epoch: 008/050 | Train MSE: 0.02 | Train Acc: 87.77% | Valid Acc: 87.74%\n",
            "Epoch: 009/050 | Train MSE: 0.02 | Train Acc: 88.78% | Valid Acc: 88.74%\n",
            "Epoch: 010/050 | Train MSE: 0.02 | Train Acc: 89.42% | Valid Acc: 89.46%\n",
            "Epoch: 011/050 | Train MSE: 0.02 | Train Acc: 89.96% | Valid Acc: 89.94%\n",
            "Epoch: 012/050 | Train MSE: 0.02 | Train Acc: 90.39% | Valid Acc: 90.22%\n",
            "Epoch: 013/050 | Train MSE: 0.02 | Train Acc: 90.74% | Valid Acc: 90.60%\n",
            "Epoch: 014/050 | Train MSE: 0.02 | Train Acc: 91.21% | Valid Acc: 91.10%\n",
            "Epoch: 015/050 | Train MSE: 0.01 | Train Acc: 91.51% | Valid Acc: 91.28%\n",
            "Epoch: 016/050 | Train MSE: 0.01 | Train Acc: 91.71% | Valid Acc: 91.38%\n",
            "Epoch: 017/050 | Train MSE: 0.01 | Train Acc: 91.97% | Valid Acc: 91.58%\n",
            "Epoch: 018/050 | Train MSE: 0.01 | Train Acc: 92.21% | Valid Acc: 91.86%\n",
            "Epoch: 019/050 | Train MSE: 0.01 | Train Acc: 92.41% | Valid Acc: 92.06%\n",
            "Epoch: 020/050 | Train MSE: 0.01 | Train Acc: 92.66% | Valid Acc: 92.20%\n",
            "Epoch: 021/050 | Train MSE: 0.01 | Train Acc: 92.86% | Valid Acc: 92.56%\n",
            "Epoch: 022/050 | Train MSE: 0.01 | Train Acc: 93.03% | Valid Acc: 92.56%\n",
            "Epoch: 023/050 | Train MSE: 0.01 | Train Acc: 93.20% | Valid Acc: 92.76%\n",
            "Epoch: 024/050 | Train MSE: 0.01 | Train Acc: 93.39% | Valid Acc: 92.94%\n",
            "Epoch: 025/050 | Train MSE: 0.01 | Train Acc: 93.42% | Valid Acc: 92.82%\n",
            "Epoch: 026/050 | Train MSE: 0.01 | Train Acc: 93.73% | Valid Acc: 93.24%\n",
            "Epoch: 027/050 | Train MSE: 0.01 | Train Acc: 93.70% | Valid Acc: 92.98%\n",
            "Epoch: 028/050 | Train MSE: 0.01 | Train Acc: 94.01% | Valid Acc: 93.50%\n",
            "Epoch: 029/050 | Train MSE: 0.01 | Train Acc: 94.04% | Valid Acc: 93.46%\n",
            "Epoch: 030/050 | Train MSE: 0.01 | Train Acc: 94.30% | Valid Acc: 93.66%\n",
            "Epoch: 031/050 | Train MSE: 0.01 | Train Acc: 94.43% | Valid Acc: 93.84%\n",
            "Epoch: 032/050 | Train MSE: 0.01 | Train Acc: 94.45% | Valid Acc: 93.86%\n",
            "Epoch: 033/050 | Train MSE: 0.01 | Train Acc: 94.56% | Valid Acc: 93.92%\n",
            "Epoch: 034/050 | Train MSE: 0.01 | Train Acc: 94.73% | Valid Acc: 94.14%\n",
            "Epoch: 035/050 | Train MSE: 0.01 | Train Acc: 94.83% | Valid Acc: 94.14%\n",
            "Epoch: 036/050 | Train MSE: 0.01 | Train Acc: 94.89% | Valid Acc: 94.24%\n",
            "Epoch: 037/050 | Train MSE: 0.01 | Train Acc: 94.98% | Valid Acc: 94.32%\n",
            "Epoch: 038/050 | Train MSE: 0.01 | Train Acc: 95.15% | Valid Acc: 94.32%\n",
            "Epoch: 039/050 | Train MSE: 0.01 | Train Acc: 95.22% | Valid Acc: 94.44%\n",
            "Epoch: 040/050 | Train MSE: 0.01 | Train Acc: 95.30% | Valid Acc: 94.46%\n",
            "Epoch: 041/050 | Train MSE: 0.01 | Train Acc: 95.40% | Valid Acc: 94.60%\n",
            "Epoch: 042/050 | Train MSE: 0.01 | Train Acc: 95.46% | Valid Acc: 94.58%\n",
            "Epoch: 043/050 | Train MSE: 0.01 | Train Acc: 95.56% | Valid Acc: 94.56%\n",
            "Epoch: 044/050 | Train MSE: 0.01 | Train Acc: 95.60% | Valid Acc: 94.72%\n",
            "Epoch: 045/050 | Train MSE: 0.01 | Train Acc: 95.67% | Valid Acc: 94.80%\n",
            "Epoch: 046/050 | Train MSE: 0.01 | Train Acc: 95.79% | Valid Acc: 95.08%\n",
            "Epoch: 047/050 | Train MSE: 0.01 | Train Acc: 95.82% | Valid Acc: 94.96%\n",
            "Epoch: 048/050 | Train MSE: 0.01 | Train Acc: 95.93% | Valid Acc: 94.90%\n",
            "Epoch: 049/050 | Train MSE: 0.01 | Train Acc: 95.94% | Valid Acc: 94.94%\n",
            "Epoch: 050/050 | Train MSE: 0.01 | Train Acc: 95.99% | Valid Acc: 95.06%\n"
          ]
        }
      ],
      "source": [
        "np.random.seed(123) # for the training set shuffling\n",
        "\n",
        "# Train the model\n",
        "epoch_loss, epoch_train_acc, epoch_valid_acc = train(model, X_train, y_train, X_valid, y_valid, num_epochs=50, learning_rate=0.1)\n",
        "\n"
      ]
    },
    {
      "cell_type": "markdown",
      "metadata": {
        "id": "CXI7Xhtw1vjB"
      },
      "source": [
        "## Evaluating the neural network performance"
      ]
    },
    {
      "cell_type": "code",
      "execution_count": 48,
      "metadata": {
        "colab": {
          "base_uri": "https://localhost:8080/",
          "height": 449
        },
        "id": "yswr95Nz1vjB",
        "outputId": "a68c1647-ff22-495c-fe04-6db7638ca03f"
      },
      "outputs": [
        {
          "output_type": "display_data",
          "data": {
            "text/plain": [
              "<Figure size 640x480 with 1 Axes>"
            ],
            "image/png": "[encoded data removed]"
          },
          "metadata": {}
        }
      ],
      "source": [
        "plt.plot(range(len(epoch_loss)), epoch_loss)\n",
        "plt.ylabel('Mean squared error')\n",
        "plt.xlabel('Epoch')\n",
        "#plt.savefig('figures/11_07.png', dpi=300)\n",
        "plt.show()"
      ]
    },
    {
      "cell_type": "code",
      "execution_count": 49,
      "metadata": {
        "colab": {
          "base_uri": "https://localhost:8080/",
          "height": 449
        },
        "id": "EWnAib-O1vjC",
        "outputId": "994fd5e6-2fc9-411d-c603-b4ac64fbd008"
      },
      "outputs": [
        {
          "output_type": "display_data",
          "data": {
            "text/plain": [
              "<Figure size 640x480 with 1 Axes>"
            ],
            "image/png": "[encoded data removed]"
          },
          "metadata": {}
        }
      ],
      "source": [
        "plt.plot(range(len(epoch_train_acc)), epoch_train_acc,\n",
        "         label='Training')\n",
        "plt.plot(range(len(epoch_valid_acc)), epoch_valid_acc,\n",
        "         label='Validation')\n",
        "plt.ylabel('Accuracy')\n",
        "plt.xlabel('Epochs')\n",
        "plt.legend(loc='lower right')\n",
        "#plt.savefig('figures/11_08.png', dpi=300)\n",
        "plt.show()"
      ]
    },
    {
      "cell_type": "code",
      "execution_count": 50,
      "metadata": {
        "colab": {
          "base_uri": "https://localhost:8080/"
        },
        "id": "Gm17XYwq1vjC",
        "outputId": "876b3589-9bc2-4831-a7dc-6125f17845d6"
      },
      "outputs": [
        {
          "output_type": "stream",
          "name": "stdout",
          "text": [
            "Test MSE: 0.01\n",
            "Test Accuracy: 94.84%\n"
          ]
        }
      ],
      "source": [
        "# Evaluate on test data\n",
        "test_mse, test_acc = compute_mse_and_acc(model, X_test, y_test)\n",
        "test_acc *= 100\n",
        "\n",
        "print(f'Test MSE: {test_mse:.2f}')\n",
        "print(f'Test Accuracy: {test_acc:.2f}%')"
      ]
    },
    {
      "cell_type": "markdown",
      "metadata": {
        "id": "KgkGmLDi1vjC"
      },
      "source": [
        "Plot failure cases:"
      ]
    },
    {
      "cell_type": "code",
      "execution_count": 52,
      "metadata": {
        "id": "a87Ba0zF1vjD"
      },
      "outputs": [],
      "source": [
        "X_test_subset = X_test[:1000, :]\n",
        "y_test_subset = y_test[:1000]\n",
        "\n",
        "a_h1, a_h2, a_out  = model.forward(X_test_subset)\n",
        "test_pred = np.argmax(a_out, axis=1)\n",
        "\n",
        "misclassified_images = X_test_subset[y_test_subset != test_pred][:25]\n",
        "misclassified_labels = test_pred[y_test_subset != test_pred][:25]\n",
        "correct_labels = y_test_subset[y_test_subset != test_pred][:25]"
      ]
    },
    {
      "cell_type": "code",
      "execution_count": 53,
      "metadata": {
        "colab": {
          "base_uri": "https://localhost:8080/",
          "height": 806
        },
        "id": "pYWJZ2BV1vjD",
        "outputId": "fe5913be-b53f-427a-80bb-b11da9302a35"
      },
      "outputs": [
        {
          "output_type": "display_data",
          "data": {
            "text/plain": [
              "<Figure size 800x800 with 25 Axes>"
            ],
            "image/png": "[encoded data removed]"
          },
          "metadata": {}
        }
      ],
      "source": [
        "fig, ax = plt.subplots(nrows=5, ncols=5, \n",
        "                       sharex=True, sharey=True, figsize=(8, 8))\n",
        "ax = ax.flatten()\n",
        "for i in range(25):\n",
        "    img = misclassified_images[i].reshape(28, 28)\n",
        "    ax[i].imshow(img, cmap='Greys', interpolation='nearest')\n",
        "    ax[i].set_title(f'{i+1}) '\n",
        "                    f'True: {correct_labels[i]}\\n'\n",
        "                    f' Predicted: {misclassified_labels[i]}')\n",
        "\n",
        "ax[0].set_xticks([])\n",
        "ax[0].set_yticks([])\n",
        "plt.tight_layout()\n",
        "#plt.savefig('figures/11_09.png', dpi=300)\n",
        "plt.show()"
      ]
    },
    {
      "cell_type": "markdown",
      "metadata": {
        "id": "aML-hBiC1vjD"
      },
      "source": [
        "<br>\n",
        "<br>"
      ]
    },
    {
      "cell_type": "markdown",
      "metadata": {
        "id": "EGURKFpO1vjD"
      },
      "source": [
        "# Training an artificial neural network"
      ]
    },
    {
      "cell_type": "markdown",
      "metadata": {
        "id": "YRlphbFa1vjD"
      },
      "source": [
        "..."
      ]
    },
    {
      "cell_type": "markdown",
      "metadata": {
        "id": "DsDrndZy1vjE"
      },
      "source": [
        "## Computing the loss function"
      ]
    },
    {
      "cell_type": "code",
      "execution_count": 54,
      "metadata": {
        "colab": {
          "base_uri": "https://localhost:8080/",
          "height": 311
        },
        "id": "3xSoEZpr1vjE",
        "outputId": "4b134832-477d-43c0-d7ac-9f292f2075df"
      },
      "outputs": [
        {
          "output_type": "error",
          "ename": "FileNotFoundError",
          "evalue": "ignored",
          "traceback": [
            "\u001b[0;31m---------------------------------------------------------------------------\u001b[0m",
            "\u001b[0;31mFileNotFoundError\u001b[0m                         Traceback (most recent call last)",
            "\u001b[0;32m<ipython-input-54-3369b0a4d4c1>\u001b[0m in \u001b[0;36m<cell line: 1>\u001b[0;34m()\u001b[0m\n\u001b[0;32m----> 1\u001b[0;31m \u001b[0mImage\u001b[0m\u001b[0;34m(\u001b[0m\u001b[0mfilename\u001b[0m\u001b[0;34m=\u001b[0m\u001b[0;34m'figures/11_10.png'\u001b[0m\u001b[0;34m,\u001b[0m \u001b[0mwidth\u001b[0m\u001b[0;34m=\u001b[0m\u001b[0;36m300\u001b[0m\u001b[0;34m)\u001b[0m\u001b[0;34m\u001b[0m\u001b[0;34m\u001b[0m\u001b[0m\n\u001b[0m",
            "\u001b[0;32m/usr/local/lib/python3.10/dist-packages/IPython/core/display.py\u001b[0m in \u001b[0;36m__init__\u001b[0;34m(self, data, url, filename, format, embed, width, height, retina, unconfined, metadata)\u001b[0m\n\u001b[1;32m   1229\u001b[0m         \u001b[0mself\u001b[0m\u001b[0;34m.\u001b[0m\u001b[0mretina\u001b[0m \u001b[0;34m=\u001b[0m \u001b[0mretina\u001b[0m\u001b[0;34m\u001b[0m\u001b[0;34m\u001b[0m\u001b[0m\n\u001b[1;32m   1230\u001b[0m         \u001b[0mself\u001b[0m\u001b[0;34m.\u001b[0m\u001b[0munconfined\u001b[0m \u001b[0;34m=\u001b[0m \u001b[0munconfined\u001b[0m\u001b[0;34m\u001b[0m\u001b[0;34m\u001b[0m\u001b[0m\n\u001b[0;32m-> 1231\u001b[0;31m         super(Image, self).__init__(data=data, url=url, filename=filename, \n\u001b[0m\u001b[1;32m   1232\u001b[0m                 metadata=metadata)\n\u001b[1;32m   1233\u001b[0m \u001b[0;34m\u001b[0m\u001b[0m\n",
            "\u001b[0;32m/usr/local/lib/python3.10/dist-packages/IPython/core/display.py\u001b[0m in \u001b[0;36m__init__\u001b[0;34m(self, data, url, filename, metadata)\u001b[0m\n\u001b[1;32m    635\u001b[0m             \u001b[0mself\u001b[0m\u001b[0;34m.\u001b[0m\u001b[0mmetadata\u001b[0m \u001b[0;34m=\u001b[0m \u001b[0;34m{\u001b[0m\u001b[0;34m}\u001b[0m\u001b[0;34m\u001b[0m\u001b[0;34m\u001b[0m\u001b[0m\n\u001b[1;32m    636\u001b[0m \u001b[0;34m\u001b[0m\u001b[0m\n\u001b[0;32m--> 637\u001b[0;31m         \u001b[0mself\u001b[0m\u001b[0;34m.\u001b[0m\u001b[0mreload\u001b[0m\u001b[0;34m(\u001b[0m\u001b[0;34m)\u001b[0m\u001b[0;34m\u001b[0m\u001b[0;34m\u001b[0m\u001b[0m\n\u001b[0m\u001b[1;32m    638\u001b[0m         \u001b[0mself\u001b[0m\u001b[0;34m.\u001b[0m\u001b[0m_check_data\u001b[0m\u001b[0;34m(\u001b[0m\u001b[0;34m)\u001b[0m\u001b[0;34m\u001b[0m\u001b[0;34m\u001b[0m\u001b[0m\n\u001b[1;32m    639\u001b[0m \u001b[0;34m\u001b[0m\u001b[0m\n",
            "\u001b[0;32m/usr/local/lib/python3.10/dist-packages/IPython/core/display.py\u001b[0m in \u001b[0;36mreload\u001b[0;34m(self)\u001b[0m\n\u001b[1;32m   1261\u001b[0m         \u001b[0;34m\"\"\"Reload the raw data from file or URL.\"\"\"\u001b[0m\u001b[0;34m\u001b[0m\u001b[0;34m\u001b[0m\u001b[0m\n\u001b[1;32m   1262\u001b[0m         \u001b[0;32mif\u001b[0m \u001b[0mself\u001b[0m\u001b[0;34m.\u001b[0m\u001b[0membed\u001b[0m\u001b[0;34m:\u001b[0m\u001b[0;34m\u001b[0m\u001b[0;34m\u001b[0m\u001b[0m\n\u001b[0;32m-> 1263\u001b[0;31m             \u001b[0msuper\u001b[0m\u001b[0;34m(\u001b[0m\u001b[0mImage\u001b[0m\u001b[0;34m,\u001b[0m\u001b[0mself\u001b[0m\u001b[0;34m)\u001b[0m\u001b[0;34m.\u001b[0m\u001b[0mreload\u001b[0m\u001b[0;34m(\u001b[0m\u001b[0;34m)\u001b[0m\u001b[0;34m\u001b[0m\u001b[0;34m\u001b[0m\u001b[0m\n\u001b[0m\u001b[1;32m   1264\u001b[0m             \u001b[0;32mif\u001b[0m \u001b[0mself\u001b[0m\u001b[0;34m.\u001b[0m\u001b[0mretina\u001b[0m\u001b[0;34m:\u001b[0m\u001b[0;34m\u001b[0m\u001b[0;34m\u001b[0m\u001b[0m\n\u001b[1;32m   1265\u001b[0m                 \u001b[0mself\u001b[0m\u001b[0;34m.\u001b[0m\u001b[0m_retina_shape\u001b[0m\u001b[0;34m(\u001b[0m\u001b[0;34m)\u001b[0m\u001b[0;34m\u001b[0m\u001b[0;34m\u001b[0m\u001b[0m\n",
            "\u001b[0;32m/usr/local/lib/python3.10/dist-packages/IPython/core/display.py\u001b[0m in \u001b[0;36mreload\u001b[0;34m(self)\u001b[0m\n\u001b[1;32m    660\u001b[0m         \u001b[0;34m\"\"\"Reload the raw data from file or URL.\"\"\"\u001b[0m\u001b[0;34m\u001b[0m\u001b[0;34m\u001b[0m\u001b[0m\n\u001b[1;32m    661\u001b[0m         \u001b[0;32mif\u001b[0m \u001b[0mself\u001b[0m\u001b[0;34m.\u001b[0m\u001b[0mfilename\u001b[0m \u001b[0;32mis\u001b[0m \u001b[0;32mnot\u001b[0m \u001b[0;32mNone\u001b[0m\u001b[0;34m:\u001b[0m\u001b[0;34m\u001b[0m\u001b[0;34m\u001b[0m\u001b[0m\n\u001b[0;32m--> 662\u001b[0;31m             \u001b[0;32mwith\u001b[0m \u001b[0mopen\u001b[0m\u001b[0;34m(\u001b[0m\u001b[0mself\u001b[0m\u001b[0;34m.\u001b[0m\u001b[0mfilename\u001b[0m\u001b[0;34m,\u001b[0m \u001b[0mself\u001b[0m\u001b[0;34m.\u001b[0m\u001b[0m_read_flags\u001b[0m\u001b[0;34m)\u001b[0m \u001b[0;32mas\u001b[0m \u001b[0mf\u001b[0m\u001b[0;34m:\u001b[0m\u001b[0;34m\u001b[0m\u001b[0;34m\u001b[0m\u001b[0m\n\u001b[0m\u001b[1;32m    663\u001b[0m                 \u001b[0mself\u001b[0m\u001b[0;34m.\u001b[0m\u001b[0mdata\u001b[0m \u001b[0;34m=\u001b[0m \u001b[0mf\u001b[0m\u001b[0;34m.\u001b[0m\u001b[0mread\u001b[0m\u001b[0;34m(\u001b[0m\u001b[0;34m)\u001b[0m\u001b[0;34m\u001b[0m\u001b[0;34m\u001b[0m\u001b[0m\n\u001b[1;32m    664\u001b[0m         \u001b[0;32melif\u001b[0m \u001b[0mself\u001b[0m\u001b[0;34m.\u001b[0m\u001b[0murl\u001b[0m \u001b[0;32mis\u001b[0m \u001b[0;32mnot\u001b[0m \u001b[0;32mNone\u001b[0m\u001b[0;34m:\u001b[0m\u001b[0;34m\u001b[0m\u001b[0;34m\u001b[0m\u001b[0m\n",
            "\u001b[0;31mFileNotFoundError\u001b[0m: [Errno 2] No such file or directory: 'figures/11_10.png'"
          ]
        }
      ],
      "source": [
        "Image(filename='figures/11_10.png', width=300) "
      ]
    },
    {
      "cell_type": "markdown",
      "metadata": {
        "id": "Dd1wxdve1vjE"
      },
      "source": [
        "<br>\n",
        "<br>"
      ]
    },
    {
      "cell_type": "markdown",
      "metadata": {
        "id": "i-qYivOn1vjE"
      },
      "source": [
        "## Developing your intuition for backpropagation"
      ]
    },
    {
      "cell_type": "markdown",
      "metadata": {
        "id": "x5S3SMab1vjE"
      },
      "source": [
        "..."
      ]
    },
    {
      "cell_type": "markdown",
      "metadata": {
        "id": "eoBjwqwz1vjF"
      },
      "source": [
        "## Training neural networks via backpropagation"
      ]
    },
    {
      "cell_type": "code",
      "execution_count": null,
      "metadata": {
        "id": "xW1kexkL1vjF"
      },
      "outputs": [],
      "source": [
        "Image(filename='./figures/11_11.png', width=400) "
      ]
    },
    {
      "cell_type": "code",
      "execution_count": null,
      "metadata": {
        "id": "-8rcuPSa1vjF"
      },
      "outputs": [],
      "source": [
        "Image(filename='figures/11_12.png', width=500) "
      ]
    },
    {
      "cell_type": "code",
      "execution_count": null,
      "metadata": {
        "id": "rEMh6rWR1vjF"
      },
      "outputs": [],
      "source": [
        "Image(filename='figures/11_13.png', width=500) "
      ]
    },
    {
      "cell_type": "markdown",
      "metadata": {
        "id": "ZqMAm7791vjG"
      },
      "source": [
        "<br>\n",
        "<br>"
      ]
    },
    {
      "cell_type": "markdown",
      "metadata": {
        "id": "9aNR8fBW1vjG"
      },
      "source": [
        "# Convergence in neural networks"
      ]
    },
    {
      "cell_type": "code",
      "execution_count": null,
      "metadata": {
        "id": "M91CjT8g1vjG"
      },
      "outputs": [],
      "source": [
        "Image(filename='figures/11_14.png', width=500) "
      ]
    },
    {
      "cell_type": "markdown",
      "metadata": {
        "id": "H82FTL6Y1vjG"
      },
      "source": [
        "<br>\n",
        "<br>"
      ]
    },
    {
      "cell_type": "markdown",
      "metadata": {
        "id": "S1SJEuHN1vjG"
      },
      "source": [
        "..."
      ]
    },
    {
      "cell_type": "markdown",
      "metadata": {
        "id": "b_vSLnL31vjG"
      },
      "source": [
        "# Summary"
      ]
    },
    {
      "cell_type": "markdown",
      "metadata": {
        "id": "q61ThqB-1vjH"
      },
      "source": [
        "# ..."
      ]
    },
    {
      "cell_type": "markdown",
      "metadata": {
        "id": "JvAPujPg1vjH"
      },
      "source": [
        "---\n",
        "\n",
        "Readers may ignore the next cell."
      ]
    },
    {
      "cell_type": "code",
      "execution_count": null,
      "metadata": {
        "id": "V-XoUkgE1vjH"
      },
      "outputs": [],
      "source": [
        "! python ../.convert_notebook_to_script.py --input ch11.ipynb --output ch11.py"
      ]
    }
  ],
  "metadata": {
    "anaconda-cloud": {},
    "kernelspec": {
      "display_name": "Python 3 (ipykernel)",
      "language": "python",
      "name": "python3"
    },
    "language_info": {
      "codemirror_mode": {
        "name": "ipython",
        "version": 3
      },
      "file_extension": ".py",
      "mimetype": "text/x-python",
      "name": "python",
      "nbconvert_exporter": "python",
      "pygments_lexer": "ipython3",
      "version": "3.9.7"
    },
    "colab": {
      "provenance": []
    }
  },
  "nbformat": 4,
  "nbformat_minor": 0
}